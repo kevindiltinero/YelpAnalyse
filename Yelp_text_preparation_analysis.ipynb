{
 "cells": [
  {
   "cell_type": "markdown",
   "metadata": {},
   "source": [
    "# Factors in a business success according to Yelp\n",
    "### Group: Connor Fitzmaurice 12376761, Kevin Fitzpatrick 15204690, Stephen Murphy 15200153"
   ]
  },
  {
   "cell_type": "markdown",
   "metadata": {},
   "source": [
    "# Text Prepartion\n",
    "As part of the data preparation stage of this project, the text features of both the tips and abt datasets will be prepared.\n",
    "Sentiment will be calculated individually for tips and reviews with numerical values representing sentiment. The factors mentioned in a tip/review will be also calculated with a scale from 0 upwards denoting the weight given towards a factor. These factors were the following, Location, Service, Price, Food, Beverages and were chosen based off some intial textual analysis done using the nltk python libray. This analysis can be seen in the textual analysis notebook. \n",
    "\n",
    "For each business, this analysis was then averaged to calculate the main focus of the business based off the reviews/tips recieved and the percenatage of positive/negative reviews/tips.\n",
    "\n",
    "To enable nltk analysis, the text for tips adnd reviews in the abt will be saved to two text files using numpy.\n",
    "\n",
    "Any files, plots or other outputs from this notebook will be saved in the Text Preparation folder."
   ]
  },
  {
   "cell_type": "markdown",
   "metadata": {},
   "source": [
    "## Data Quality Report\n",
    "Some issues currently exist with working with the text of the reviews and tips in their datasets due to the structure of the panda column and it current format:\n",
    "1. No way to do overall text analysis\n",
    "2. Strings in cells need to be tokenise individually and analysed\n",
    "\n",
    "Solutions:\n",
    "1. Use numpy to group text and nltk for analysis\n",
    "2. Iterate through panda cells using for loop"
   ]
  },
  {
   "cell_type": "markdown",
   "metadata": {},
   "source": [
    "### Import neccessary Libraries"
   ]
  },
  {
   "cell_type": "code",
   "execution_count": 2,
   "metadata": {
    "collapsed": false
   },
   "outputs": [
    {
     "name": "stderr",
     "output_type": "stream",
     "text": [
      "C:\\Users\\ray\\Anaconda3\\lib\\site-packages\\nltk\\twitter\\__init__.py:20: UserWarning: The twython library has not been installed. Some functionality from the twitter package will not be available.\n",
      "  warnings.warn(\"The twython library has not been installed. \"\n"
     ]
    }
   ],
   "source": [
    "#Import libraries/packages needed for analysis the reviews and tip text\n",
    "import pandas as pd\n",
    "import csv\n",
    "import numpy as np\n",
    "import matplotlib.pyplot as plt\n",
    "import sklearn.feature_extraction.text\n",
    "import yaml\n",
    "import nltk\n",
    "from nltk.corpus import stopwords\n",
    "from nltk.sentiment.util import *\n",
    "%matplotlib inline"
   ]
  },
  {
   "cell_type": "code",
   "execution_count": 3,
   "metadata": {
    "collapsed": true
   },
   "outputs": [],
   "source": [
    " #Set panda options so whole lines for tips can be view\n",
    "pd.set_option('max_colwidth', 500)"
   ]
  },
  {
   "cell_type": "markdown",
   "metadata": {},
   "source": [
    "## Functions required to do text analysis cell by cell\n",
    "Several classes and functions will be used to do sentiment and factor analysis."
   ]
  },
  {
   "cell_type": "code",
   "execution_count": 4,
   "metadata": {
    "collapsed": false
   },
   "outputs": [],
   "source": [
    "#Source is  http://fjavieralba.com/basic-sentiment-analysis-with-python.html\n",
    "\n",
    "#Functions and classes with which to do sentiment analysis\n",
    "\n",
    "#Class to split tips text and tokenize it\n",
    "class Splitter(object):\n",
    "    def __init__(self):\n",
    "        self.nltk_splitter = nltk.data.load('tokenizers/punkt/english.pickle')\n",
    "        self.nltk_tokenizer = nltk.tokenize.TreebankWordTokenizer()\n",
    "\n",
    "    def split(self, text):\n",
    "        \"\"\"\n",
    "        input format: a paragraph of text\n",
    "        output format: a list of lists of words.\n",
    "            e.g.: [['this', 'is', 'a', 'sentence'], ['this', 'is', 'another', 'one']]\n",
    "        \"\"\"\n",
    "        sentences = self.nltk_splitter.tokenize(text)\n",
    "        tokenized_sentences = [self.nltk_tokenizer.tokenize(sent) for sent in sentences]\n",
    "        return tokenized_sentences\n",
    "\n",
    "#Class to apply pos( part-of-speech tagging ) tags to tokens\n",
    "class POSTagger(object):\n",
    "    def __init__(self):\n",
    "        pass\n",
    "        \n",
    "    def pos_tag(self, sentences):\n",
    "        \"\"\"\n",
    "        input format: list of lists of words\n",
    "            e.g.: [['this', 'is', 'a', 'sentence'], ['this', 'is', 'another', 'one']]\n",
    "        output format: list of lists of tagged tokens. Each tagged tokens has a\n",
    "        form, a lemma, and a list of tags\n",
    "            e.g: [[('this', 'this', ['DT']), ('is', 'be', ['VB']), ('a', 'a', ['DT']), ('sentence', 'sentence', ['NN'])],\n",
    "                    [('this', 'this', ['DT']), ('is', 'be', ['VB']), ('another', 'another', ['DT']), ('one', 'one', ['CARD'])]]\n",
    "        \"\"\"\n",
    "\n",
    "        pos = [nltk.pos_tag(sentence) for sentence in sentences]\n",
    "        #adapt format\n",
    "        pos = [[(word, word, [postag]) for (word, postag) in sentence] for sentence in pos]\n",
    "        return pos\n"
   ]
  },
  {
   "cell_type": "code",
   "execution_count": 5,
   "metadata": {
    "collapsed": true
   },
   "outputs": [],
   "source": [
    "#Supports tagging of sentences\n",
    "class DictionaryTagger(object):\n",
    "    def __init__(self, dictionary_paths):\n",
    "        files = [open(path, 'r') for path in dictionary_paths]\n",
    "        dictionaries = [yaml.load(dict_file) for dict_file in files]\n",
    "        map(lambda x: x.close(), files)\n",
    "        self.dictionary = {}\n",
    "        self.max_key_size = 0\n",
    "        for curr_dict in dictionaries:\n",
    "            for key in curr_dict:\n",
    "                if key in self.dictionary:\n",
    "                    self.dictionary[key].extend(curr_dict[key])\n",
    "                else:\n",
    "                    self.dictionary[key] = curr_dict[key]\n",
    "                    self.max_key_size = max(self.max_key_size, len(key))\n",
    "\n",
    "    def tag(self, postagged_sentences):\n",
    "        return [self.tag_sentence(sentence) for sentence in postagged_sentences]\n",
    "\n",
    "    def tag_sentence(self, sentence, tag_with_lemmas=False):\n",
    "        tag_sentence = []\n",
    "        N = len(sentence)\n",
    "        if self.max_key_size == 0:\n",
    "            self.max_key_size = N\n",
    "        i = 0\n",
    "        while (i < N):\n",
    "            j = min(i + self.max_key_size, N) #avoid overflow\n",
    "            tagged = False\n",
    "            while (j > i):\n",
    "                expression_form = ' '.join([word[0] for word in sentence[i:j]]).lower()\n",
    "                expression_lemma = ' '.join([word[1] for word in sentence[i:j]]).lower()\n",
    "                if tag_with_lemmas:\n",
    "                    literal = expression_lemma\n",
    "                else:\n",
    "                    literal = expression_form\n",
    "                if literal in self.dictionary:\n",
    "                    #self.logger.debug(\"found: %s\" % literal)\n",
    "                    is_single_token = j - i == 1\n",
    "                    original_position = i\n",
    "                    i = j\n",
    "                    taggings = [tag for tag in self.dictionary[literal]]\n",
    "                    tagged_expression = (expression_form, expression_lemma, taggings)\n",
    "                    if is_single_token: #if the tagged literal is a single token, conserve its previous taggings:\n",
    "                        original_token_tagging = sentence[original_position][2]\n",
    "                        tagged_expression[2].extend(original_token_tagging)\n",
    "                    tag_sentence.append(tagged_expression)\n",
    "                    tagged = True\n",
    "                else:\n",
    "                    j = j - 1\n",
    "            if not tagged:\n",
    "                tag_sentence.append(sentence[i])\n",
    "                i += 1\n",
    "        return tag_sentence"
   ]
  },
  {
   "cell_type": "markdown",
   "metadata": {},
   "source": [
    "### Analysis for factors such as location, food and price in a business success using various word list in yml files"
   ]
  },
  {
   "cell_type": "markdown",
   "metadata": {},
   "source": [
    "#### Sentiment Analysis"
   ]
  },
  {
   "cell_type": "code",
   "execution_count": 6,
   "metadata": {
    "collapsed": true
   },
   "outputs": [],
   "source": [
    "def value_of(sentiment):\n",
    "    if sentiment == 'positive': return 1\n",
    "    if sentiment == 'negative': return -1\n",
    "    return 0\n",
    "\n",
    "def sentiment_score(review):    \n",
    "    return sum ([value_of(tag) for sentence in review for token in sentence for tag in token[2]])"
   ]
  },
  {
   "cell_type": "markdown",
   "metadata": {},
   "source": [
    "The function for sentiment analysis was adapted to being used to analyse for other factors."
   ]
  },
  {
   "cell_type": "markdown",
   "metadata": {},
   "source": [
    "#### Food"
   ]
  },
  {
   "cell_type": "code",
   "execution_count": 7,
   "metadata": {
    "collapsed": true
   },
   "outputs": [],
   "source": [
    "def value_of_food(food_mention):\n",
    "    if food_mention == 'food': return 1\n",
    "    return 0\n",
    "\n",
    "def food_score(review):    \n",
    "    return sum ([value_of_food(tag) for sentence in review for token in sentence for tag in token[2]])"
   ]
  },
  {
   "cell_type": "markdown",
   "metadata": {},
   "source": [
    "#### Location"
   ]
  },
  {
   "cell_type": "code",
   "execution_count": 8,
   "metadata": {
    "collapsed": true
   },
   "outputs": [],
   "source": [
    "def value_of_location(place_mention):\n",
    "    if place_mention == 'place': return 1\n",
    "    return 0\n",
    "\n",
    "def location_score(review):    \n",
    "    return sum ([value_of_location(tag) for sentence in review for token in sentence for tag in token[2]])"
   ]
  },
  {
   "cell_type": "markdown",
   "metadata": {},
   "source": [
    "#### Service"
   ]
  },
  {
   "cell_type": "code",
   "execution_count": 9,
   "metadata": {
    "collapsed": true
   },
   "outputs": [],
   "source": [
    "def value_of_service(service_mention):\n",
    "    if service_mention == 'service': return 1\n",
    "    return 0\n",
    "\n",
    "def service_score(review):    \n",
    "    return sum ([value_of_service(tag) for sentence in review for token in sentence for tag in token[2]])"
   ]
  },
  {
   "cell_type": "markdown",
   "metadata": {},
   "source": [
    "#### Beverages"
   ]
  },
  {
   "cell_type": "code",
   "execution_count": 10,
   "metadata": {
    "collapsed": true
   },
   "outputs": [],
   "source": [
    "def value_of_drink(drink_mention):\n",
    "    if drink_mention == 'drink': return 1\n",
    "    return 0\n",
    "\n",
    "def drink_score(review):    \n",
    "    return sum ([value_of_drink(tag) for sentence in review for token in sentence for tag in token[2]])"
   ]
  },
  {
   "cell_type": "markdown",
   "metadata": {},
   "source": [
    "#### Price"
   ]
  },
  {
   "cell_type": "code",
   "execution_count": 11,
   "metadata": {
    "collapsed": true
   },
   "outputs": [],
   "source": [
    "def value_of_price(price_mention):\n",
    "    if price_mention == 'price': return 1\n",
    "    return 0\n",
    "\n",
    "def price_score(review):    \n",
    "    return sum ([value_of_price(tag) for sentence in review for token in sentence for tag in token[2]])"
   ]
  },
  {
   "cell_type": "markdown",
   "metadata": {
    "collapsed": true
   },
   "source": [
    "### YML containing list for textual analysis"
   ]
  },
  {
   "cell_type": "markdown",
   "metadata": {},
   "source": [
    "6 YML files are used for textual analysis. These are positive.yml, negative.yml, food.yml, service.yml, price.yml, location.yml and beverages.yml. Each of these files contain an associative array which are used to store an index of words as keys with values associated to them.  "
   ]
  },
  {
   "cell_type": "code",
   "execution_count": 12,
   "metadata": {
    "collapsed": false
   },
   "outputs": [],
   "source": [
    "#Load dictionaries from Yml files\n",
    "#dicttagger_sentiment = DictionaryTagger(['C:/Users/ray/Documents/ConnorStuff/DataAnalytics/positive.yml','C:/Users/ray/Documents/ConnorStuff/DataAnalytics/negative.yml']) \n",
    "dicttagger_sentiment = DictionaryTagger(['positive.yml','negative.yml'])"
   ]
  },
  {
   "cell_type": "code",
   "execution_count": 13,
   "metadata": {
    "collapsed": false
   },
   "outputs": [],
   "source": [
    "#dicttagger_food = DictionaryTagger(['C:/Users/Connor Fitzmaurice/Documents/COMP47350/DataAnalyticsProject/DataAnalytics/food.yml'])\n",
    "dicttagger_food = DictionaryTagger(['food.yml'])"
   ]
  },
  {
   "cell_type": "code",
   "execution_count": 14,
   "metadata": {
    "collapsed": true
   },
   "outputs": [],
   "source": [
    "#dicttagger_service = DictionaryTagger(['C:/Users/Connor Fitzmaurice/Documents/COMP47350/DataAnalyticsProject/DataAnalytics/service.yml'])\n",
    "dicttagger_service = DictionaryTagger(['service.yml'])"
   ]
  },
  {
   "cell_type": "code",
   "execution_count": 15,
   "metadata": {
    "collapsed": false
   },
   "outputs": [],
   "source": [
    "#dicttagger_price = DictionaryTagger(['C:/Users/Connor Fitzmaurice/Documents/COMP47350/DataAnalyticsProject/price.yml'])\n",
    "dicttagger_price = DictionaryTagger(['price.yml'])"
   ]
  },
  {
   "cell_type": "code",
   "execution_count": 16,
   "metadata": {
    "collapsed": false
   },
   "outputs": [],
   "source": [
    "#dicttagger_location = DictionaryTagger(['C:/Users/Connor Fitzmaurice/Documents/COMP47350/DataAnalyticsProject/location.yml'])\n",
    "dicttagger_location = DictionaryTagger(['location.yml'])"
   ]
  },
  {
   "cell_type": "code",
   "execution_count": 17,
   "metadata": {
    "collapsed": true
   },
   "outputs": [],
   "source": [
    "#dicttagger_beverages = DictionaryTagger(['C:/Users/Connor Fitzmaurice/Documents/COMP47350/DataAnalyticsProject/beverages.yml'])\n",
    "dicttagger_beverages = DictionaryTagger(['beverages.yml'])"
   ]
  },
  {
   "cell_type": "code",
   "execution_count": 18,
   "metadata": {
    "collapsed": false
   },
   "outputs": [],
   "source": [
    "#Read tips csv into dataframe \n",
    "tipsDF = pd.read_csv('yelp_tips.csv', index_col=False, encoding='UTF-8')\n",
    "#tipsDF = pd.read_csv('C:/Users/ray/Documents/ConnorStuff/DataAnalytics/CSV_Files/yelp_tips.csv', index_col=False, encoding='UTF-8')"
   ]
  },
  {
   "cell_type": "markdown",
   "metadata": {},
   "source": [
    "## Basic text exploration"
   ]
  },
  {
   "cell_type": "code",
   "execution_count": 18,
   "metadata": {
    "collapsed": false
   },
   "outputs": [
    {
     "data": {
      "text/html": [
       "<div>\n",
       "<table border=\"1\" class=\"dataframe\">\n",
       "  <thead>\n",
       "    <tr style=\"text-align: right;\">\n",
       "      <th></th>\n",
       "      <th>Unnamed: 0</th>\n",
       "      <th>business_id</th>\n",
       "      <th>date</th>\n",
       "      <th>likes</th>\n",
       "      <th>text</th>\n",
       "      <th>type</th>\n",
       "      <th>user_id</th>\n",
       "    </tr>\n",
       "  </thead>\n",
       "  <tbody>\n",
       "    <tr>\n",
       "      <th>0</th>\n",
       "      <td>0</td>\n",
       "      <td>cE27W9VPgO88Qxe4ol6y_g</td>\n",
       "      <td>2013-04-18</td>\n",
       "      <td>0</td>\n",
       "      <td>Don't waste your time.</td>\n",
       "      <td>tip</td>\n",
       "      <td>-6rEfobYjMxpUWLNxszaxQ</td>\n",
       "    </tr>\n",
       "    <tr>\n",
       "      <th>1</th>\n",
       "      <td>1</td>\n",
       "      <td>mVHrayjG3uZ_RLHkLj-AMg</td>\n",
       "      <td>2013-01-06</td>\n",
       "      <td>1</td>\n",
       "      <td>Your GPS will not allow you to find this place. Put Rankin police department in instead. They are directly across the street.</td>\n",
       "      <td>tip</td>\n",
       "      <td>EZ0r9dKKtEGVx2CdnowPCw</td>\n",
       "    </tr>\n",
       "    <tr>\n",
       "      <th>2</th>\n",
       "      <td>2</td>\n",
       "      <td>KayYbHCt-RkbGcPdGOThNg</td>\n",
       "      <td>2013-12-03</td>\n",
       "      <td>0</td>\n",
       "      <td>Great drink specials!</td>\n",
       "      <td>tip</td>\n",
       "      <td>xb6zEQCw9I-Gl0g06e1KsQ</td>\n",
       "    </tr>\n",
       "    <tr>\n",
       "      <th>3</th>\n",
       "      <td>3</td>\n",
       "      <td>KayYbHCt-RkbGcPdGOThNg</td>\n",
       "      <td>2015-07-08</td>\n",
       "      <td>0</td>\n",
       "      <td>Friendly staff, good food, great beer selection, and relaxing atmosphere</td>\n",
       "      <td>tip</td>\n",
       "      <td>QawZN4PSW7ng_9SP7pjsVQ</td>\n",
       "    </tr>\n",
       "    <tr>\n",
       "      <th>4</th>\n",
       "      <td>4</td>\n",
       "      <td>1_lU0-eSWJCRvNGk78Zh9Q</td>\n",
       "      <td>2015-10-25</td>\n",
       "      <td>0</td>\n",
       "      <td>Beautiful restoration.</td>\n",
       "      <td>tip</td>\n",
       "      <td>MLQre1nvUtW-RqMTc4iC9A</td>\n",
       "    </tr>\n",
       "  </tbody>\n",
       "</table>\n",
       "</div>"
      ],
      "text/plain": [
       "   Unnamed: 0             business_id        date  likes  \\\n",
       "0           0  cE27W9VPgO88Qxe4ol6y_g  2013-04-18      0   \n",
       "1           1  mVHrayjG3uZ_RLHkLj-AMg  2013-01-06      1   \n",
       "2           2  KayYbHCt-RkbGcPdGOThNg  2013-12-03      0   \n",
       "3           3  KayYbHCt-RkbGcPdGOThNg  2015-07-08      0   \n",
       "4           4  1_lU0-eSWJCRvNGk78Zh9Q  2015-10-25      0   \n",
       "\n",
       "                                                                                                                            text  \\\n",
       "0                                                                                                         Don't waste your time.   \n",
       "1  Your GPS will not allow you to find this place. Put Rankin police department in instead. They are directly across the street.   \n",
       "2                                                                                                          Great drink specials!   \n",
       "3                                                       Friendly staff, good food, great beer selection, and relaxing atmosphere   \n",
       "4                                                                                                         Beautiful restoration.   \n",
       "\n",
       "  type                 user_id  \n",
       "0  tip  -6rEfobYjMxpUWLNxszaxQ  \n",
       "1  tip  EZ0r9dKKtEGVx2CdnowPCw  \n",
       "2  tip  xb6zEQCw9I-Gl0g06e1KsQ  \n",
       "3  tip  QawZN4PSW7ng_9SP7pjsVQ  \n",
       "4  tip  MLQre1nvUtW-RqMTc4iC9A  "
      ]
     },
     "execution_count": 18,
     "metadata": {},
     "output_type": "execute_result"
    }
   ],
   "source": [
    "# Initial Table Head\n",
    "tipsDF.head()"
   ]
  },
  {
   "cell_type": "code",
   "execution_count": 19,
   "metadata": {
    "collapsed": false
   },
   "outputs": [
    {
     "data": {
      "text/html": [
       "<div>\n",
       "<table border=\"1\" class=\"dataframe\">\n",
       "  <thead>\n",
       "    <tr style=\"text-align: right;\">\n",
       "      <th></th>\n",
       "      <th>Unnamed: 0</th>\n",
       "      <th>business_id</th>\n",
       "      <th>date</th>\n",
       "      <th>likes</th>\n",
       "      <th>text</th>\n",
       "      <th>type</th>\n",
       "      <th>user_id</th>\n",
       "    </tr>\n",
       "  </thead>\n",
       "  <tbody>\n",
       "    <tr>\n",
       "      <th>591859</th>\n",
       "      <td>591859</td>\n",
       "      <td>NQQ9N-PLf3D-pguttlZ0JA</td>\n",
       "      <td>2015-12-26</td>\n",
       "      <td>0</td>\n",
       "      <td>We need more of this in VEGAs!!!!!!!!!!!</td>\n",
       "      <td>tip</td>\n",
       "      <td>o2q16gP1thKHyvhOOJsZZQ</td>\n",
       "    </tr>\n",
       "    <tr>\n",
       "      <th>591860</th>\n",
       "      <td>591860</td>\n",
       "      <td>NQQ9N-PLf3D-pguttlZ0JA</td>\n",
       "      <td>2015-12-21</td>\n",
       "      <td>0</td>\n",
       "      <td>It's open late on Friday and Saturdays until midnight.</td>\n",
       "      <td>tip</td>\n",
       "      <td>o2q16gP1thKHyvhOOJsZZQ</td>\n",
       "    </tr>\n",
       "    <tr>\n",
       "      <th>591861</th>\n",
       "      <td>591861</td>\n",
       "      <td>g51EInNrq2qhD3wkK2Dv7g</td>\n",
       "      <td>2015-12-21</td>\n",
       "      <td>0</td>\n",
       "      <td>Have fun, wish I was there but instead I'll have to make do with sitting in Atlanta Airport waiting to go on to Vegas!</td>\n",
       "      <td>tip</td>\n",
       "      <td>SM4FFgXlhHzuDJNRI6HDCA</td>\n",
       "    </tr>\n",
       "    <tr>\n",
       "      <th>591862</th>\n",
       "      <td>591862</td>\n",
       "      <td>11BQ6VK8UsaFa4KJPup6Hg</td>\n",
       "      <td>2015-01-16</td>\n",
       "      <td>0</td>\n",
       "      <td>Barista Artell was super friendly, personable and made my Strawberry-Banana-Whey smoothie deliciously.</td>\n",
       "      <td>tip</td>\n",
       "      <td>95pMy0M4Ta7ubjEcQP6f8w</td>\n",
       "    </tr>\n",
       "    <tr>\n",
       "      <th>591863</th>\n",
       "      <td>591863</td>\n",
       "      <td>11BQ6VK8UsaFa4KJPup6Hg</td>\n",
       "      <td>2015-08-17</td>\n",
       "      <td>0</td>\n",
       "      <td>Road fuel</td>\n",
       "      <td>tip</td>\n",
       "      <td>jGFQJXxJ2KiomYWFFcr5lQ</td>\n",
       "    </tr>\n",
       "  </tbody>\n",
       "</table>\n",
       "</div>"
      ],
      "text/plain": [
       "        Unnamed: 0             business_id        date  likes  \\\n",
       "591859      591859  NQQ9N-PLf3D-pguttlZ0JA  2015-12-26      0   \n",
       "591860      591860  NQQ9N-PLf3D-pguttlZ0JA  2015-12-21      0   \n",
       "591861      591861  g51EInNrq2qhD3wkK2Dv7g  2015-12-21      0   \n",
       "591862      591862  11BQ6VK8UsaFa4KJPup6Hg  2015-01-16      0   \n",
       "591863      591863  11BQ6VK8UsaFa4KJPup6Hg  2015-08-17      0   \n",
       "\n",
       "                                                                                                                          text  \\\n",
       "591859                                                                                We need more of this in VEGAs!!!!!!!!!!!   \n",
       "591860                                                                  It's open late on Friday and Saturdays until midnight.   \n",
       "591861  Have fun, wish I was there but instead I'll have to make do with sitting in Atlanta Airport waiting to go on to Vegas!   \n",
       "591862                  Barista Artell was super friendly, personable and made my Strawberry-Banana-Whey smoothie deliciously.   \n",
       "591863                                                                                                               Road fuel   \n",
       "\n",
       "       type                 user_id  \n",
       "591859  tip  o2q16gP1thKHyvhOOJsZZQ  \n",
       "591860  tip  o2q16gP1thKHyvhOOJsZZQ  \n",
       "591861  tip  SM4FFgXlhHzuDJNRI6HDCA  \n",
       "591862  tip  95pMy0M4Ta7ubjEcQP6f8w  \n",
       "591863  tip  jGFQJXxJ2KiomYWFFcr5lQ  "
      ]
     },
     "execution_count": 19,
     "metadata": {},
     "output_type": "execute_result"
    }
   ],
   "source": [
    "#Initial table tail\n",
    "tipsDF.tail()"
   ]
  },
  {
   "cell_type": "code",
   "execution_count": 20,
   "metadata": {
    "collapsed": false
   },
   "outputs": [],
   "source": [
    "#Drop unnamed index column as Panda adds its own one. Run this once only\n",
    "tipsDF = tipsDF.drop(tipsDF.columns[0], axis = 1)"
   ]
  },
  {
   "cell_type": "code",
   "execution_count": 21,
   "metadata": {
    "collapsed": false
   },
   "outputs": [
    {
     "data": {
      "text/plain": [
       "business_id    object\n",
       "date           object\n",
       "likes           int64\n",
       "text           object\n",
       "type           object\n",
       "user_id        object\n",
       "dtype: object"
      ]
     },
     "execution_count": 21,
     "metadata": {},
     "output_type": "execute_result"
    }
   ],
   "source": [
    "#Check dataset features\n",
    "tipsDF.dtypes"
   ]
  },
  {
   "cell_type": "code",
   "execution_count": 22,
   "metadata": {
    "collapsed": false
   },
   "outputs": [
    {
     "data": {
      "text/plain": [
       "(591864, 6)"
      ]
     },
     "execution_count": 22,
     "metadata": {},
     "output_type": "execute_result"
    }
   ],
   "source": [
    "#Number of rows and features\n",
    "tipsDF.shape"
   ]
  },
  {
   "cell_type": "markdown",
   "metadata": {},
   "source": [
    "### Exploration to see if tips could be used as a target feature\n",
    "Some basic text exploration surrounding the tip feature to determine how useful the like feature is as a target feature for the tips"
   ]
  },
  {
   "cell_type": "code",
   "execution_count": 23,
   "metadata": {
    "collapsed": false
   },
   "outputs": [
    {
     "name": "stdout",
     "output_type": "stream",
     "text": [
      "       business_id    date    text    type  user_id\n",
      "likes                                              \n",
      "0           583709  583709  583709  583709   583709\n",
      "1             7495    7495    7495    7495     7495\n",
      "2              543     543     543     543      543\n",
      "3               80      80      80      80       80\n",
      "4               21      21      21      21       21\n",
      "5                9       9       9       9        9\n",
      "6                3       3       3       3        3\n",
      "7                1       1       1       1        1\n",
      "8                1       1       1       1        1\n",
      "9                1       1       1       1        1\n",
      "10               1       1       1       1        1\n"
     ]
    }
   ],
   "source": [
    "# Check the overall amount of likes\n",
    "print(tipsDF.groupby('likes').count())"
   ]
  },
  {
   "cell_type": "code",
   "execution_count": 24,
   "metadata": {
    "collapsed": false
   },
   "outputs": [
    {
     "name": "stdout",
     "output_type": "stream",
     "text": [
      "               likes\n",
      "count  591864.000000\n",
      "mean        0.015210\n",
      "std         0.137642\n",
      "min         0.000000\n",
      "25%         0.000000\n",
      "50%         0.000000\n",
      "75%         0.000000\n",
      "max        10.000000\n"
     ]
    }
   ],
   "source": [
    "# Descriptive Statistics\n",
    "print(tipsDF.describe())"
   ]
  },
  {
   "cell_type": "code",
   "execution_count": 25,
   "metadata": {
    "collapsed": false
   },
   "outputs": [
    {
     "data": {
      "text/plain": [
       "array([[<matplotlib.axes._subplots.AxesSubplot object at 0x000001C010210FD0>]], dtype=object)"
      ]
     },
     "execution_count": 25,
     "metadata": {},
     "output_type": "execute_result"
    },
    {
     "data": {
      "image/png": "[encoded data removed]",
      "text/plain": [
       "<matplotlib.figure.Figure at 0x1c010210710>"
      ]
     },
     "metadata": {},
     "output_type": "display_data"
    }
   ],
   "source": [
    "tipsDF.hist(figsize=(10, 10))\n",
    "plt.savefig('text_preparation/likes_target_feature.png')"
   ]
  },
  {
   "cell_type": "markdown",
   "metadata": {},
   "source": [
    "Very few tips recieve any likes with a mean of 0. The amount of tips which even recieved likes is minimum which only approximately 1.38 % of all the tips. Out of those that recieved the most likes, many were copies of a location's menu. This is not useful to understanding what factors play a part in a business's success according to the yelp users meaning the likes feature can be dropped or disregareded."
   ]
  },
  {
   "cell_type": "markdown",
   "metadata": {},
   "source": [
    "### Create tip text file\n",
    "Save tip column to text file using numpy"
   ]
  },
  {
   "cell_type": "code",
   "execution_count": 26,
   "metadata": {
    "collapsed": false
   },
   "outputs": [
    {
     "data": {
      "text/html": [
       "<div>\n",
       "<table border=\"1\" class=\"dataframe\">\n",
       "  <thead>\n",
       "    <tr style=\"text-align: right;\">\n",
       "      <th></th>\n",
       "      <th>Unnamed: 0</th>\n",
       "      <th>business_id</th>\n",
       "      <th>date</th>\n",
       "      <th>likes</th>\n",
       "      <th>text</th>\n",
       "      <th>type</th>\n",
       "      <th>user_id</th>\n",
       "    </tr>\n",
       "  </thead>\n",
       "  <tbody>\n",
       "    <tr>\n",
       "      <th>0</th>\n",
       "      <td>0</td>\n",
       "      <td>cE27W9VPgO88Qxe4ol6y_g</td>\n",
       "      <td>2013-04-18</td>\n",
       "      <td>0</td>\n",
       "      <td>Don't waste your time.</td>\n",
       "      <td>tip</td>\n",
       "      <td>-6rEfobYjMxpUWLNxszaxQ</td>\n",
       "    </tr>\n",
       "    <tr>\n",
       "      <th>1</th>\n",
       "      <td>1</td>\n",
       "      <td>mVHrayjG3uZ_RLHkLj-AMg</td>\n",
       "      <td>2013-01-06</td>\n",
       "      <td>1</td>\n",
       "      <td>Your GPS will not allow you to find this place. Put Rankin police department in instead. They are directly across the street.</td>\n",
       "      <td>tip</td>\n",
       "      <td>EZ0r9dKKtEGVx2CdnowPCw</td>\n",
       "    </tr>\n",
       "    <tr>\n",
       "      <th>2</th>\n",
       "      <td>2</td>\n",
       "      <td>KayYbHCt-RkbGcPdGOThNg</td>\n",
       "      <td>2013-12-03</td>\n",
       "      <td>0</td>\n",
       "      <td>Great drink specials!</td>\n",
       "      <td>tip</td>\n",
       "      <td>xb6zEQCw9I-Gl0g06e1KsQ</td>\n",
       "    </tr>\n",
       "    <tr>\n",
       "      <th>3</th>\n",
       "      <td>3</td>\n",
       "      <td>KayYbHCt-RkbGcPdGOThNg</td>\n",
       "      <td>2015-07-08</td>\n",
       "      <td>0</td>\n",
       "      <td>Friendly staff, good food, great beer selection, and relaxing atmosphere</td>\n",
       "      <td>tip</td>\n",
       "      <td>QawZN4PSW7ng_9SP7pjsVQ</td>\n",
       "    </tr>\n",
       "    <tr>\n",
       "      <th>4</th>\n",
       "      <td>4</td>\n",
       "      <td>1_lU0-eSWJCRvNGk78Zh9Q</td>\n",
       "      <td>2015-10-25</td>\n",
       "      <td>0</td>\n",
       "      <td>Beautiful restoration.</td>\n",
       "      <td>tip</td>\n",
       "      <td>MLQre1nvUtW-RqMTc4iC9A</td>\n",
       "    </tr>\n",
       "  </tbody>\n",
       "</table>\n",
       "</div>"
      ],
      "text/plain": [
       "   Unnamed: 0             business_id        date  likes  \\\n",
       "0           0  cE27W9VPgO88Qxe4ol6y_g  2013-04-18      0   \n",
       "1           1  mVHrayjG3uZ_RLHkLj-AMg  2013-01-06      1   \n",
       "2           2  KayYbHCt-RkbGcPdGOThNg  2013-12-03      0   \n",
       "3           3  KayYbHCt-RkbGcPdGOThNg  2015-07-08      0   \n",
       "4           4  1_lU0-eSWJCRvNGk78Zh9Q  2015-10-25      0   \n",
       "\n",
       "                                                                                                                            text  \\\n",
       "0                                                                                                         Don't waste your time.   \n",
       "1  Your GPS will not allow you to find this place. Put Rankin police department in instead. They are directly across the street.   \n",
       "2                                                                                                          Great drink specials!   \n",
       "3                                                       Friendly staff, good food, great beer selection, and relaxing atmosphere   \n",
       "4                                                                                                         Beautiful restoration.   \n",
       "\n",
       "  type                 user_id  \n",
       "0  tip  -6rEfobYjMxpUWLNxszaxQ  \n",
       "1  tip  EZ0r9dKKtEGVx2CdnowPCw  \n",
       "2  tip  xb6zEQCw9I-Gl0g06e1KsQ  \n",
       "3  tip  QawZN4PSW7ng_9SP7pjsVQ  \n",
       "4  tip  MLQre1nvUtW-RqMTc4iC9A  "
      ]
     },
     "execution_count": 26,
     "metadata": {},
     "output_type": "execute_result"
    }
   ],
   "source": [
    "tipsDF = pd.read_csv(\"yelp_tips.csv\", encoding = 'latin-1')\n",
    "# Test to see if it works\n",
    "tipsDF.head()"
   ]
  },
  {
   "cell_type": "code",
   "execution_count": 27,
   "metadata": {
    "collapsed": false
   },
   "outputs": [
    {
     "data": {
      "text/html": [
       "<div>\n",
       "<table border=\"1\" class=\"dataframe\">\n",
       "  <thead>\n",
       "    <tr style=\"text-align: right;\">\n",
       "      <th></th>\n",
       "      <th>business_id</th>\n",
       "      <th>date</th>\n",
       "      <th>likes</th>\n",
       "      <th>text</th>\n",
       "      <th>type</th>\n",
       "      <th>user_id</th>\n",
       "    </tr>\n",
       "  </thead>\n",
       "  <tbody>\n",
       "    <tr>\n",
       "      <th>0</th>\n",
       "      <td>cE27W9VPgO88Qxe4ol6y_g</td>\n",
       "      <td>2013-04-18</td>\n",
       "      <td>0</td>\n",
       "      <td>Don't waste your time.</td>\n",
       "      <td>tip</td>\n",
       "      <td>-6rEfobYjMxpUWLNxszaxQ</td>\n",
       "    </tr>\n",
       "    <tr>\n",
       "      <th>1</th>\n",
       "      <td>mVHrayjG3uZ_RLHkLj-AMg</td>\n",
       "      <td>2013-01-06</td>\n",
       "      <td>1</td>\n",
       "      <td>Your GPS will not allow you to find this place. Put Rankin police department in instead. They are directly across the street.</td>\n",
       "      <td>tip</td>\n",
       "      <td>EZ0r9dKKtEGVx2CdnowPCw</td>\n",
       "    </tr>\n",
       "    <tr>\n",
       "      <th>2</th>\n",
       "      <td>KayYbHCt-RkbGcPdGOThNg</td>\n",
       "      <td>2013-12-03</td>\n",
       "      <td>0</td>\n",
       "      <td>Great drink specials!</td>\n",
       "      <td>tip</td>\n",
       "      <td>xb6zEQCw9I-Gl0g06e1KsQ</td>\n",
       "    </tr>\n",
       "    <tr>\n",
       "      <th>3</th>\n",
       "      <td>KayYbHCt-RkbGcPdGOThNg</td>\n",
       "      <td>2015-07-08</td>\n",
       "      <td>0</td>\n",
       "      <td>Friendly staff, good food, great beer selection, and relaxing atmosphere</td>\n",
       "      <td>tip</td>\n",
       "      <td>QawZN4PSW7ng_9SP7pjsVQ</td>\n",
       "    </tr>\n",
       "    <tr>\n",
       "      <th>4</th>\n",
       "      <td>1_lU0-eSWJCRvNGk78Zh9Q</td>\n",
       "      <td>2015-10-25</td>\n",
       "      <td>0</td>\n",
       "      <td>Beautiful restoration.</td>\n",
       "      <td>tip</td>\n",
       "      <td>MLQre1nvUtW-RqMTc4iC9A</td>\n",
       "    </tr>\n",
       "  </tbody>\n",
       "</table>\n",
       "</div>"
      ],
      "text/plain": [
       "              business_id        date  likes  \\\n",
       "0  cE27W9VPgO88Qxe4ol6y_g  2013-04-18      0   \n",
       "1  mVHrayjG3uZ_RLHkLj-AMg  2013-01-06      1   \n",
       "2  KayYbHCt-RkbGcPdGOThNg  2013-12-03      0   \n",
       "3  KayYbHCt-RkbGcPdGOThNg  2015-07-08      0   \n",
       "4  1_lU0-eSWJCRvNGk78Zh9Q  2015-10-25      0   \n",
       "\n",
       "                                                                                                                            text  \\\n",
       "0                                                                                                         Don't waste your time.   \n",
       "1  Your GPS will not allow you to find this place. Put Rankin police department in instead. They are directly across the street.   \n",
       "2                                                                                                          Great drink specials!   \n",
       "3                                                       Friendly staff, good food, great beer selection, and relaxing atmosphere   \n",
       "4                                                                                                         Beautiful restoration.   \n",
       "\n",
       "  type                 user_id  \n",
       "0  tip  -6rEfobYjMxpUWLNxszaxQ  \n",
       "1  tip  EZ0r9dKKtEGVx2CdnowPCw  \n",
       "2  tip  xb6zEQCw9I-Gl0g06e1KsQ  \n",
       "3  tip  QawZN4PSW7ng_9SP7pjsVQ  \n",
       "4  tip  MLQre1nvUtW-RqMTc4iC9A  "
      ]
     },
     "execution_count": 27,
     "metadata": {},
     "output_type": "execute_result"
    }
   ],
   "source": [
    "#Get rid of unamed column in tips\n",
    "tipsDF = tipsDF.drop(tipsDF.columns[0], axis = 1)\n",
    "tipsDF.head()"
   ]
  },
  {
   "cell_type": "code",
   "execution_count": 28,
   "metadata": {
    "collapsed": false
   },
   "outputs": [
    {
     "name": "stdout",
     "output_type": "stream",
     "text": [
      "Number of rows and features (591864, 6)\n"
     ]
    }
   ],
   "source": [
    "# Number of rows and features\n",
    "print(\"Number of rows and features\", tipsDF.shape)"
   ]
  },
  {
   "cell_type": "code",
   "execution_count": 29,
   "metadata": {
    "collapsed": false
   },
   "outputs": [
    {
     "name": "stdout",
     "output_type": "stream",
     "text": [
      "Feature types business_id    object\n",
      "date           object\n",
      "likes           int64\n",
      "text           object\n",
      "type           object\n",
      "user_id        object\n",
      "dtype: object\n"
     ]
    }
   ],
   "source": [
    "# Feature Types\n",
    "print(\"Feature types\", tipsDF.dtypes)"
   ]
  },
  {
   "cell_type": "markdown",
   "metadata": {},
   "source": [
    "50,000 sample rows were taken from datasets as larger sample sizes start to run into significant issues with run time"
   ]
  },
  {
   "cell_type": "code",
   "execution_count": 30,
   "metadata": {
    "collapsed": false
   },
   "outputs": [
    {
     "data": {
      "text/html": [
       "<div>\n",
       "<table border=\"1\" class=\"dataframe\">\n",
       "  <thead>\n",
       "    <tr style=\"text-align: right;\">\n",
       "      <th></th>\n",
       "      <th>business_id</th>\n",
       "      <th>date</th>\n",
       "      <th>likes</th>\n",
       "      <th>text</th>\n",
       "      <th>type</th>\n",
       "      <th>user_id</th>\n",
       "    </tr>\n",
       "  </thead>\n",
       "  <tbody>\n",
       "    <tr>\n",
       "      <th>49995</th>\n",
       "      <td>xDXVHNv6socQ7a2zF9q-mw</td>\n",
       "      <td>2014-09-12</td>\n",
       "      <td>0</td>\n",
       "      <td>If you gamble here you will typically receive in the monthly mailer a $10 Gets You $20 coupon</td>\n",
       "      <td>tip</td>\n",
       "      <td>Q2jWOzEmkl6Zys2R1fFZWg</td>\n",
       "    </tr>\n",
       "    <tr>\n",
       "      <th>49996</th>\n",
       "      <td>xDXVHNv6socQ7a2zF9q-mw</td>\n",
       "      <td>2015-03-14</td>\n",
       "      <td>0</td>\n",
       "      <td>Can't  go wrong with the House Etouffee and Shrimp Louie Salad</td>\n",
       "      <td>tip</td>\n",
       "      <td>Q2jWOzEmkl6Zys2R1fFZWg</td>\n",
       "    </tr>\n",
       "    <tr>\n",
       "      <th>49997</th>\n",
       "      <td>xDXVHNv6socQ7a2zF9q-mw</td>\n",
       "      <td>2012-03-16</td>\n",
       "      <td>0</td>\n",
       "      <td>Sit at the oyster bar for quick service and watching the March Madness NCAA games.</td>\n",
       "      <td>tip</td>\n",
       "      <td>NJr3BrZmavIuzKxE5W-aoQ</td>\n",
       "    </tr>\n",
       "    <tr>\n",
       "      <th>49998</th>\n",
       "      <td>Qi2R3JN5Prx69X5r1RXwCA</td>\n",
       "      <td>2010-12-20</td>\n",
       "      <td>0</td>\n",
       "      <td>I came for the salad!</td>\n",
       "      <td>tip</td>\n",
       "      <td>UOYJEm4M_xfgaCGOglwxlg</td>\n",
       "    </tr>\n",
       "    <tr>\n",
       "      <th>49999</th>\n",
       "      <td>Qi2R3JN5Prx69X5r1RXwCA</td>\n",
       "      <td>2011-07-01</td>\n",
       "      <td>0</td>\n",
       "      <td>Are you kidding me with this salsa bar? Unfreakingbelievably delicious.</td>\n",
       "      <td>tip</td>\n",
       "      <td>FQBOwnh6l7lRbPoI-jwxEQ</td>\n",
       "    </tr>\n",
       "  </tbody>\n",
       "</table>\n",
       "</div>"
      ],
      "text/plain": [
       "                  business_id        date  likes  \\\n",
       "49995  xDXVHNv6socQ7a2zF9q-mw  2014-09-12      0   \n",
       "49996  xDXVHNv6socQ7a2zF9q-mw  2015-03-14      0   \n",
       "49997  xDXVHNv6socQ7a2zF9q-mw  2012-03-16      0   \n",
       "49998  Qi2R3JN5Prx69X5r1RXwCA  2010-12-20      0   \n",
       "49999  Qi2R3JN5Prx69X5r1RXwCA  2011-07-01      0   \n",
       "\n",
       "                                                                                                text  \\\n",
       "49995  If you gamble here you will typically receive in the monthly mailer a $10 Gets You $20 coupon   \n",
       "49996                                 Can't  go wrong with the House Etouffee and Shrimp Louie Salad   \n",
       "49997             Sit at the oyster bar for quick service and watching the March Madness NCAA games.   \n",
       "49998                                                                          I came for the salad!   \n",
       "49999                        Are you kidding me with this salsa bar? Unfreakingbelievably delicious.   \n",
       "\n",
       "      type                 user_id  \n",
       "49995  tip  Q2jWOzEmkl6Zys2R1fFZWg  \n",
       "49996  tip  Q2jWOzEmkl6Zys2R1fFZWg  \n",
       "49997  tip  NJr3BrZmavIuzKxE5W-aoQ  \n",
       "49998  tip  UOYJEm4M_xfgaCGOglwxlg  \n",
       "49999  tip  FQBOwnh6l7lRbPoI-jwxEQ  "
      ]
     },
     "execution_count": 30,
     "metadata": {},
     "output_type": "execute_result"
    }
   ],
   "source": [
    "# Test converting the Text feature of the table into a text file \n",
    "tipsDFslice = tipsDF[:50000]\n",
    "tipsDFslice.tail()"
   ]
  },
  {
   "cell_type": "code",
   "execution_count": 31,
   "metadata": {
    "collapsed": true
   },
   "outputs": [],
   "source": [
    "# Remove columns with problem characters due to encoding for np.savetext being limited to latin-1\n",
    "tipsDFslice = tipsDFslice.drop(tipsDFslice.index[[5515]])\n",
    "tipsDFslice = tipsDFslice.drop(tipsDFslice.index[[7765]])\n",
    "tipsDFslice = tipsDFslice.drop(tipsDFslice.index[[7917]])\n",
    "tipsDFslice = tipsDFslice.drop(tipsDFslice.index[[7989]])\n",
    "tipsDFslice = tipsDFslice.drop(tipsDFslice.index[[12378]])\n",
    "tipsDFslice = tipsDFslice.drop(tipsDFslice.index[[27538]])\n",
    "tipsDFslice = tipsDFslice.drop(tipsDFslice.index[[32969]])\n",
    "tipsDFslice = tipsDFslice.drop(tipsDFslice.index[[38296]])"
   ]
  },
  {
   "cell_type": "code",
   "execution_count": 32,
   "metadata": {
    "collapsed": false
   },
   "outputs": [
    {
     "name": "stdout",
     "output_type": "stream",
     "text": [
      "Number of rows and features (49992, 6)\n"
     ]
    }
   ],
   "source": [
    "# Check rows left after removal\n",
    "print(\"Number of rows and features\", tipsDFslice.shape)"
   ]
  },
  {
   "cell_type": "code",
   "execution_count": 33,
   "metadata": {
    "collapsed": false
   },
   "outputs": [
    {
     "data": {
      "text/html": [
       "<div>\n",
       "<table border=\"1\" class=\"dataframe\">\n",
       "  <thead>\n",
       "    <tr style=\"text-align: right;\">\n",
       "      <th></th>\n",
       "      <th>business_id</th>\n",
       "      <th>date</th>\n",
       "      <th>likes</th>\n",
       "      <th>text</th>\n",
       "      <th>type</th>\n",
       "      <th>user_id</th>\n",
       "    </tr>\n",
       "  </thead>\n",
       "  <tbody>\n",
       "    <tr>\n",
       "      <th>49995</th>\n",
       "      <td>xDXVHNv6socQ7a2zF9q-mw</td>\n",
       "      <td>2014-09-12</td>\n",
       "      <td>0</td>\n",
       "      <td>If you gamble here you will typically receive in the monthly mailer a $10 Gets You $20 coupon</td>\n",
       "      <td>tip</td>\n",
       "      <td>Q2jWOzEmkl6Zys2R1fFZWg</td>\n",
       "    </tr>\n",
       "    <tr>\n",
       "      <th>49996</th>\n",
       "      <td>xDXVHNv6socQ7a2zF9q-mw</td>\n",
       "      <td>2015-03-14</td>\n",
       "      <td>0</td>\n",
       "      <td>Can't  go wrong with the House Etouffee and Shrimp Louie Salad</td>\n",
       "      <td>tip</td>\n",
       "      <td>Q2jWOzEmkl6Zys2R1fFZWg</td>\n",
       "    </tr>\n",
       "    <tr>\n",
       "      <th>49997</th>\n",
       "      <td>xDXVHNv6socQ7a2zF9q-mw</td>\n",
       "      <td>2012-03-16</td>\n",
       "      <td>0</td>\n",
       "      <td>Sit at the oyster bar for quick service and watching the March Madness NCAA games.</td>\n",
       "      <td>tip</td>\n",
       "      <td>NJr3BrZmavIuzKxE5W-aoQ</td>\n",
       "    </tr>\n",
       "    <tr>\n",
       "      <th>49998</th>\n",
       "      <td>Qi2R3JN5Prx69X5r1RXwCA</td>\n",
       "      <td>2010-12-20</td>\n",
       "      <td>0</td>\n",
       "      <td>I came for the salad!</td>\n",
       "      <td>tip</td>\n",
       "      <td>UOYJEm4M_xfgaCGOglwxlg</td>\n",
       "    </tr>\n",
       "    <tr>\n",
       "      <th>49999</th>\n",
       "      <td>Qi2R3JN5Prx69X5r1RXwCA</td>\n",
       "      <td>2011-07-01</td>\n",
       "      <td>0</td>\n",
       "      <td>Are you kidding me with this salsa bar? Unfreakingbelievably delicious.</td>\n",
       "      <td>tip</td>\n",
       "      <td>FQBOwnh6l7lRbPoI-jwxEQ</td>\n",
       "    </tr>\n",
       "  </tbody>\n",
       "</table>\n",
       "</div>"
      ],
      "text/plain": [
       "                  business_id        date  likes  \\\n",
       "49995  xDXVHNv6socQ7a2zF9q-mw  2014-09-12      0   \n",
       "49996  xDXVHNv6socQ7a2zF9q-mw  2015-03-14      0   \n",
       "49997  xDXVHNv6socQ7a2zF9q-mw  2012-03-16      0   \n",
       "49998  Qi2R3JN5Prx69X5r1RXwCA  2010-12-20      0   \n",
       "49999  Qi2R3JN5Prx69X5r1RXwCA  2011-07-01      0   \n",
       "\n",
       "                                                                                                text  \\\n",
       "49995  If you gamble here you will typically receive in the monthly mailer a $10 Gets You $20 coupon   \n",
       "49996                                 Can't  go wrong with the House Etouffee and Shrimp Louie Salad   \n",
       "49997             Sit at the oyster bar for quick service and watching the March Madness NCAA games.   \n",
       "49998                                                                          I came for the salad!   \n",
       "49999                        Are you kidding me with this salsa bar? Unfreakingbelievably delicious.   \n",
       "\n",
       "      type                 user_id  \n",
       "49995  tip  Q2jWOzEmkl6Zys2R1fFZWg  \n",
       "49996  tip  Q2jWOzEmkl6Zys2R1fFZWg  \n",
       "49997  tip  NJr3BrZmavIuzKxE5W-aoQ  \n",
       "49998  tip  UOYJEm4M_xfgaCGOglwxlg  \n",
       "49999  tip  FQBOwnh6l7lRbPoI-jwxEQ  "
      ]
     },
     "execution_count": 33,
     "metadata": {},
     "output_type": "execute_result"
    }
   ],
   "source": [
    "# 8 rows removed\n",
    "tipsDFslice.tail()"
   ]
  },
  {
   "cell_type": "code",
   "execution_count": 34,
   "metadata": {
    "collapsed": false
   },
   "outputs": [],
   "source": [
    "# Write text column to text file to allow NLtk text analysis\n",
    "np.savetxt(r'text_preparation/tips.txt',tipsDFslice['text'], fmt='%s')"
   ]
  },
  {
   "cell_type": "markdown",
   "metadata": {},
   "source": [
    "## Cell by cell sentiment analysis"
   ]
  },
  {
   "cell_type": "code",
   "execution_count": 35,
   "metadata": {
    "collapsed": false
   },
   "outputs": [],
   "source": [
    "#Sentiment Analysis on sample slice of tips\n",
    "#Split comments into words'\n",
    "tip_sample = tipsDFslice\n",
    "\n",
    "splitter = Splitter()\n",
    "postagger = POSTagger()\n",
    "\n",
    "sentiment_flag = []\n",
    "food_flag = []\n",
    "service_flag = []\n",
    "price_flag = []\n",
    "location_flag = []\n",
    "beverages_flag = []\n",
    "\n",
    "for row in tip_sample['text']:\n",
    "    #print(row)\n",
    "    # Lowercase words.\n",
    "    row = row.lower()\n",
    "    #print('Lowercased row ' + row)\n",
    "    tip_tokenized = splitter.split(row)\n",
    "    #print('Tokenised Tip', tip_tokenized)\n",
    "    pos_tagged_tips = postagger.pos_tag(tip_tokenized)\n",
    "    #print('POS tip', pos_tagged_tips)\n",
    "    \n",
    "    #Tag tokenized tip with various dicitonaries\n",
    "    \n",
    "    #Sentiment\n",
    "    dict_tagged_tips = dicttagger_sentiment.tag(pos_tagged_tips)\n",
    "    #print('Dictionary tagged tip', dict_tagged_tips)\n",
    "    #print('Sentiment score',sentiment_score(dict_tagged_tips))\n",
    "    sentiment_flag.append(sentiment_score(dict_tagged_tips))\n",
    "    \n",
    "    # Food\n",
    "    dict_tagged_tips = dicttagger_food.tag(pos_tagged_tips)\n",
    "    food_flag.append(food_score(dict_tagged_tips))\n",
    "    \n",
    "    # Service\n",
    "    dict_tagged_tips = dicttagger_service.tag(pos_tagged_tips)\n",
    "    service_flag.append(service_score(dict_tagged_tips))\n",
    "    \n",
    "    # Price\n",
    "    dict_tagged_tips = dicttagger_price.tag(pos_tagged_tips)\n",
    "    price_flag.append(price_score(dict_tagged_tips))\n",
    "    \n",
    "    # Location\n",
    "    dict_tagged_tips = dicttagger_location.tag(pos_tagged_tips)\n",
    "    location_flag.append(location_score(dict_tagged_tips))\n",
    "    \n",
    "    # Beverages\n",
    "    dict_tagged_tips = dicttagger_beverages.tag(pos_tagged_tips)\n",
    "    beverages_flag.append(drink_score(dict_tagged_tips))\n",
    "\n",
    "\n",
    "#Create words column\n",
    "tip_sample['Sentiment'] = sentiment_flag\n",
    "tip_sample['Food'] = food_flag\n",
    "tip_sample['Service'] = service_flag\n",
    "tip_sample['Price'] = price_flag\n",
    "tip_sample['Location'] = location_flag\n",
    "tip_sample['Beverages'] = beverages_flag"
   ]
  },
  {
   "cell_type": "markdown",
   "metadata": {},
   "source": [
    "Features are created in the dataset for sentiment, food, service, price, location and beverages. Each of these if given a interger value. For sentiment, this represents whether a value was positive or negative with 0 being neutral. For other factors this interger value was always positive and is used to weigh how prominently this factor appears."
   ]
  },
  {
   "cell_type": "code",
   "execution_count": 36,
   "metadata": {
    "collapsed": false
   },
   "outputs": [
    {
     "data": {
      "text/plain": [
       "(49992, 12)"
      ]
     },
     "execution_count": 36,
     "metadata": {},
     "output_type": "execute_result"
    }
   ],
   "source": [
    "tip_sample.shape"
   ]
  },
  {
   "cell_type": "code",
   "execution_count": 37,
   "metadata": {
    "collapsed": false
   },
   "outputs": [
    {
     "data": {
      "text/plain": [
       "<bound method NDFrame.head of                   business_id        date  likes  \\\n",
       "0      cE27W9VPgO88Qxe4ol6y_g  2013-04-18      0   \n",
       "1      mVHrayjG3uZ_RLHkLj-AMg  2013-01-06      1   \n",
       "2      KayYbHCt-RkbGcPdGOThNg  2013-12-03      0   \n",
       "3      KayYbHCt-RkbGcPdGOThNg  2015-07-08      0   \n",
       "4      1_lU0-eSWJCRvNGk78Zh9Q  2015-10-25      0   \n",
       "5      1_lU0-eSWJCRvNGk78Zh9Q  2015-01-06      0   \n",
       "6      _qopVQ6_Mz6W7-Pmbi56GQ  2013-02-13      0   \n",
       "7      _qopVQ6_Mz6W7-Pmbi56GQ  2010-08-27      0   \n",
       "8      wJr6kSA5dchdgOdwH6dZ2w  2013-07-22      0   \n",
       "9      Cdcus0NADzyY3XiJM2O5Sg  2011-10-12      0   \n",
       "10     Cdcus0NADzyY3XiJM2O5Sg  2011-10-07      0   \n",
       "11     fNGIbpazjTRdXgwRY_NIXA  2015-12-19      0   \n",
       "12     fNGIbpazjTRdXgwRY_NIXA  2013-04-22      0   \n",
       "13     b9WZJp5L1RZr4F1nxclOoQ  2012-03-17      0   \n",
       "14     b9WZJp5L1RZr4F1nxclOoQ  2012-08-27      2   \n",
       "15     b9WZJp5L1RZr4F1nxclOoQ  2013-10-17      0   \n",
       "16     b9WZJp5L1RZr4F1nxclOoQ  2015-10-03      0   \n",
       "17     b9WZJp5L1RZr4F1nxclOoQ  2011-11-09      0   \n",
       "18     zaXDakTd3RXyOa7sMrUE1g  2014-11-08      0   \n",
       "19     WETE_LykpcnrC1sFcQ5EGg  2010-01-22      0   \n",
       "20     SQ0j7bgSTazkVQlF5AnqyQ  2014-08-02      0   \n",
       "21     SQ0j7bgSTazkVQlF5AnqyQ  2011-09-16      1   \n",
       "22     wqu7ILomIOPSduRwoWp4AQ  2011-12-17      0   \n",
       "23     wqu7ILomIOPSduRwoWp4AQ  2014-04-27      0   \n",
       "24     wqu7ILomIOPSduRwoWp4AQ  2015-06-15      0   \n",
       "25     1u2NauOy8xDj7aFQET680A  2015-03-02      0   \n",
       "26     1u2NauOy8xDj7aFQET680A  2015-02-18      0   \n",
       "27     P1fJb2WQ1mXoiudj8UE44w  2011-03-14      0   \n",
       "28     P1fJb2WQ1mXoiudj8UE44w  2011-07-02      0   \n",
       "29     P1fJb2WQ1mXoiudj8UE44w  2011-07-17      0   \n",
       "...                       ...         ...    ...   \n",
       "49970  iO1RtDpu9xORD-Nsy6tNlw  2014-06-12      0   \n",
       "49971  iO1RtDpu9xORD-Nsy6tNlw  2014-06-18      0   \n",
       "49972  iO1RtDpu9xORD-Nsy6tNlw  2014-07-26      0   \n",
       "49973  iO1RtDpu9xORD-Nsy6tNlw  2014-08-02      0   \n",
       "49974  iO1RtDpu9xORD-Nsy6tNlw  2014-10-23      0   \n",
       "49975  iO1RtDpu9xORD-Nsy6tNlw  2015-08-04      0   \n",
       "49976  iO1RtDpu9xORD-Nsy6tNlw  2015-10-08      0   \n",
       "49977  iO1RtDpu9xORD-Nsy6tNlw  2015-10-20      0   \n",
       "49978  iO1RtDpu9xORD-Nsy6tNlw  2015-12-13      0   \n",
       "49979  iO1RtDpu9xORD-Nsy6tNlw  2010-07-28      0   \n",
       "49980  REhZa844QHi0QrOnwiz-XA  2011-10-24      0   \n",
       "49981  REhZa844QHi0QrOnwiz-XA  2012-06-05      0   \n",
       "49982  REhZa844QHi0QrOnwiz-XA  2012-06-16      0   \n",
       "49983  REhZa844QHi0QrOnwiz-XA  2012-10-05      0   \n",
       "49984  REhZa844QHi0QrOnwiz-XA  2015-01-05      0   \n",
       "49985  REhZa844QHi0QrOnwiz-XA  2010-09-24      0   \n",
       "49986  JT_IG8NyXwG_xwUsIiZmoA  2011-02-13      0   \n",
       "49987  JT_IG8NyXwG_xwUsIiZmoA  2013-06-19      0   \n",
       "49988  JT_IG8NyXwG_xwUsIiZmoA  2010-08-12      0   \n",
       "49989  xDXVHNv6socQ7a2zF9q-mw  2012-06-07      0   \n",
       "49990  xDXVHNv6socQ7a2zF9q-mw  2013-08-24      0   \n",
       "49991  xDXVHNv6socQ7a2zF9q-mw  2013-12-06      0   \n",
       "49992  xDXVHNv6socQ7a2zF9q-mw  2014-02-15      0   \n",
       "49993  xDXVHNv6socQ7a2zF9q-mw  2014-03-24      0   \n",
       "49994  xDXVHNv6socQ7a2zF9q-mw  2014-07-12      0   \n",
       "49995  xDXVHNv6socQ7a2zF9q-mw  2014-09-12      0   \n",
       "49996  xDXVHNv6socQ7a2zF9q-mw  2015-03-14      0   \n",
       "49997  xDXVHNv6socQ7a2zF9q-mw  2012-03-16      0   \n",
       "49998  Qi2R3JN5Prx69X5r1RXwCA  2010-12-20      0   \n",
       "49999  Qi2R3JN5Prx69X5r1RXwCA  2011-07-01      0   \n",
       "\n",
       "                                                                                                                                                                                                                                                                                                            text  \\\n",
       "0                                                                                                                                                                                                                                                                                         Don't waste your time.   \n",
       "1                                                                                                                                                                                  Your GPS will not allow you to find this place. Put Rankin police department in instead. They are directly across the street.   \n",
       "2                                                                                                                                                                                                                                                                                          Great drink specials!   \n",
       "3                                                                                                                                                                                                                                       Friendly staff, good food, great beer selection, and relaxing atmosphere   \n",
       "4                                                                                                                                                                                                                                                                                         Beautiful restoration.   \n",
       "5                                                                                                                                                                                                                                                                                Home to Stage 62 theatre group.   \n",
       "6                                                                                                                                                                                                                                                                          A God send if you're not a gear head!   \n",
       "7                                                                                                                                                                                                                                                                 Great people ... great service ... always busy   \n",
       "8                                                                                                                                                                                                                                Sarah rocks! Best waitress here! Be sure to get her and compliment her glasses.   \n",
       "9                                                                                                                                                                                                                                                                                                  Unleaded 3.42   \n",
       "10                                                                                                                                                                                                                                                                                                 Gas ...  3.45   \n",
       "11                                                                                                                                                                                                                                          Great local bar. Theresa does a great job. Sandwiches are excellent.   \n",
       "12                                                                                                                                                                           Decent selection of more than just bar food. \\r\\n\\r\\nJumbo fish sandwich is aptly named. \\r\\n\\r\\nSeem to be generous with the pour.   \n",
       "13                                                                                                                                                                                                                                                                                                I'm in heaven.   \n",
       "14                                                                                         If you haven't come for lunch you are missing out!  Great burgers and fries. Meatloaf and gravy on special (usually every or every other Thursday) and when thy had potato salad I always get it. Great lunch prices!   \n",
       "15                                                                                                                                                                                                                                               Wonderful food, generous portions.  What more  can you ask for!   \n",
       "16                                                                                                                                                                                                                                             Best food around.  Big portions decent price. Local food and feel   \n",
       "17                                                                                                                                                                                                                                                                                   Breakfast with Dad and Gino   \n",
       "18                                                                                                                                                                                                                                                         Like it all. Gratis staff, stellar breakfast all day.   \n",
       "19                                                                                                                                                                                                                                                                                      A quick pint of Guinness   \n",
       "20                                                                                                                                                                                                                                                               Slow service--annoying, but indicates MTO food.   \n",
       "21                                                                                                                                                                                                                                                                  Not a place to dine in but take out is great   \n",
       "22                                                                                                                                                                                                                                                                                                        Grits!   \n",
       "23                                                                                                                                                                                    This is the second time we are going there with my husband, and I like their stakes but both times, found hair on my food.   \n",
       "24                                                                                                                                                                                                                                                                             Excellent food , good service too   \n",
       "25     They don't believe they're liable to clean the parking lot per one of the workers. He told me good luck when I said some could sue for falling when they don't clean it up. The ice was a good inch thick next to my car. Of course I'm going to be careful, but I didn't bring my ice skates to the gym.   \n",
       "26                                                                                                        They never clean the parking lot in the winter so make sure you wear boots outside and don't crash your car. Also, there is a huge pot hole pulling in, so make sure you don't slash your tire either.   \n",
       "27                                                                                                                                                                                              Terrible service.  Waiter disappeared for nearly an hour to serve banquet patrons in the rear of the restaurant.   \n",
       "28                                                                                                                                                                                                                                                                              Spinach & Feta pizza is amazing!   \n",
       "29                                                                                                                                                                                                                                                  Try the baby clams and angel hair with the garlic oil sauce!   \n",
       "...                                                                                                                                                                                                                                                                                                          ...   \n",
       "49970                                                                                                                                                                                                                                        Come after the morning rush. I'd say somewhere between 10 and 10:15   \n",
       "49971                                                                                                                                                                                                                                                                          good food- they need more help!!!   \n",
       "49972                                                                                                                                                                                Famous for bagel and shmear. They also make fresh orange juice. This place is just a little to small for a group of people.   \n",
       "49973                                                                                                                                                                                                                                                                                 Don't go there in a hurry.   \n",
       "49974                                                                                                                                                                                                                                                               Great coffee, delicious bagels, kind service   \n",
       "49975                                                                                                                                                                                                                               I love bagels, the service is great and vanilla hazelnut coffee is delicious   \n",
       "49976                                                                                                                                                                                                                                                                          I love vanilla hazelnut coffee!!!   \n",
       "49977                                                                                                                                                                                                                       Bad service today !!!!! Slow service, wrong order, there was not coffee already ....   \n",
       "49978                                                                                                                                                                                                                                                                                   Super cheap, super good!   \n",
       "49979                                                                                                                                                                                                                                                                         Come early for fresh warm bagels!!   \n",
       "49980                                                                                                                                                                                                                                                                     Holiday stuff is in already... Love it   \n",
       "49981                                                                                                                                                                                                                                                                                            Great selection   \n",
       "49982                                                                                                                                                                                               Going to a debut party and gotta make sure its a Hallmark card. Yelp, last minute but I'm packing the goods.   \n",
       "49983                                                                                                                                                                                                                                                                         Thank you cards I get them here :)   \n",
       "49984                                                                                                                                                                                                            Hallmark offers layaway! However you are not able to use coupons or your Crown Rewards dollars.   \n",
       "49985                                                                                                                                                                                                                                                   Italy is the last on the \"Doorways to the world\" series.   \n",
       "49986                                                                                                                                                                                                                          Very slow service. I always walk to Borders (about a 5 minute walk) while I wait.   \n",
       "49987                                                                                                                                                                                                                                                                        1.Slow\\r\\n2. rude\\r\\n3. incompetent   \n",
       "49988                                                                                                                                                                                                                                                                   Bring something to read... slow service.   \n",
       "49989                                                                                                                                 Time for oysters and bouillabaisse and  pan roast. The bread is like plain dinner rolls ( whatever ). Staff is friendly. Some things are changing not sure if good or bad.   \n",
       "49990                                                                                                                                                                                                                                                                                                Oyster bar!   \n",
       "49991                                                                                                                                                                                                                                       Best cioppino of all the stations properties, and I've had them ALL!   \n",
       "49992                                                                                                                                                                                                                                                                                        Love the salsa bar!   \n",
       "49993                                                                                                                                                                                                                                The lunch box special is $6.99. The $10 gets you $20 coupon does not apply.   \n",
       "49994                                                                                                                                                                                                                                                                      Oysters and chowder - can't go wrong!   \n",
       "49995                                                                                                                                                                                                              If you gamble here you will typically receive in the monthly mailer a $10 Gets You $20 coupon   \n",
       "49996                                                                                                                                                                                                                                             Can't  go wrong with the House Etouffee and Shrimp Louie Salad   \n",
       "49997                                                                                                                                                                                                                         Sit at the oyster bar for quick service and watching the March Madness NCAA games.   \n",
       "49998                                                                                                                                                                                                                                                                                      I came for the salad!   \n",
       "49999                                                                                                                                                                                                                                    Are you kidding me with this salsa bar? Unfreakingbelievably delicious.   \n",
       "\n",
       "      type                 user_id  Sentiment  Food  Service  Price  Location  \\\n",
       "0      tip  -6rEfobYjMxpUWLNxszaxQ         -1     0        0      0         0   \n",
       "1      tip  EZ0r9dKKtEGVx2CdnowPCw         -1     0        0      0         2   \n",
       "2      tip  xb6zEQCw9I-Gl0g06e1KsQ          1     1        0      1         0   \n",
       "3      tip  QawZN4PSW7ng_9SP7pjsVQ          3     1        1      0         1   \n",
       "4      tip  MLQre1nvUtW-RqMTc4iC9A          1     0        0      0         0   \n",
       "5      tip  bvu13GyOUwhEjPum2xjiqQ          0     0        0      0         0   \n",
       "6      tip  bvu13GyOUwhEjPum2xjiqQ          0     0        0      0         0   \n",
       "7      tip  _QFom7aSHKNCDsNXKd-3xQ          2     0        0      0         1   \n",
       "8      tip  fvTivrsJoUMYXnOJw9wZfw          3     1        0      0         0   \n",
       "9      tip  bvu13GyOUwhEjPum2xjiqQ          0     0        0      0         0   \n",
       "10     tip  bvu13GyOUwhEjPum2xjiqQ          0     0        0      0         0   \n",
       "11     tip  _wbuJtXPZGT6U1Qg5hV4VQ          3     0        0      0         1   \n",
       "12     tip  6GrH6gp09pqYykGv86D6Dg          2     3        0      0         0   \n",
       "13     tip  gl46Pxc4OzLai8JVyxUIwA          1     0        0      0         0   \n",
       "14     tip  6GrH6gp09pqYykGv86D6Dg          3     6        0      1         0   \n",
       "15     tip  hoThsXW1ndoytxVwc_MVLQ          2     1        0      0         0   \n",
       "16     tip  QEXQo9mYn9W17ct1uxsm4Q          3     2        0      1         1   \n",
       "17     tip  AY-W59xCVPDaCaOKJOQUhw          0     1        0      0         0   \n",
       "18     tip  FyQ9wsYI-17OTSZTnXmNbg          3     1        0      0         0   \n",
       "19     tip  B5VpKiCdRS8OHHjvhdYzMA          1     0        1      0         0   \n",
       "20     tip  9OZH1Ecw-qUkCW5MS0NefA         -2     1        1      0         0   \n",
       "21     tip  QEXQo9mYn9W17ct1uxsm4Q          1     1        0      0         2   \n",
       "22     tip  bvu13GyOUwhEjPum2xjiqQ          0     0        0      0         0   \n",
       "23     tip  UxfFAw2-cTpeWvRROF1HEw          2     1        0      0         0   \n",
       "24     tip  Dmvqb5TVcfHq8TMW20zJww          2     1        0      0         0   \n",
       "25     tip  1z4KPFEb4TuYsnmlVu0ZWQ          1     2        0      0         4   \n",
       "26     tip  1z4KPFEb4TuYsnmlVu0ZWQ         -2     1        0      0         4   \n",
       "27     tip  Lbdzh6Qn5S1O5ENrr7n2wA         -1     1        1      0         0   \n",
       "28     tip  BEKZwGEKTSL7Y-dZ_nIlng          1     2        0      0         0   \n",
       "29     tip  UXQzUyOnihbH0K_yCpK1zA          2     3        0      0         0   \n",
       "...    ...                     ...        ...   ...      ...    ...       ...   \n",
       "49970  tip  E9rVMg_eaMjczghqyorfgA          0     0        0      0         0   \n",
       "49971  tip  l-q56HHPUCi_LcJbuT-_Xw          1     0        0      0         0   \n",
       "49972  tip  Wb0moRbu56-ADOh8TiSBeA          2     3        0      0         2   \n",
       "49973  tip  sylgwtVXEXMbf3ki3lzCdw          0     0        0      0         0   \n",
       "49974  tip  yIz32wWlDStYr4z4NARajw          2     1        1      0         0   \n",
       "49975  tip  yIz32wWlDStYr4z4NARajw          3     3        0      0         0   \n",
       "49976  tip  yIz32wWlDStYr4z4NARajw          1     3        0      0         0   \n",
       "49977  tip  yIz32wWlDStYr4z4NARajw         -3     2        1      0         0   \n",
       "49978  tip  sIldtW39tWeArujpbpg3Mg          2     0        0      1         0   \n",
       "49979  tip  MRhcnYwWae4VXkoQBWq49Q          2     0        0      0         0   \n",
       "49980  tip  zD0BZI-GJHnVTVKSXXBSng          1     0        0      0         0   \n",
       "49981  tip  0XLmZEBb8dF1oF14RZEhmw          1     0        0      0         0   \n",
       "49982  tip  NJr3BrZmavIuzKxE5W-aoQ          1     0        0      1         0   \n",
       "49983  tip  QMTQNQmp4hQ2o6hkRX_Uxg          1     0        0      0         0   \n",
       "49984  tip  jNwutFukLvxCjSFM-gJakQ          1     0        0      1         0   \n",
       "49985  tip  PZOSzR6fS3utCB9UlLXs-Q          0     0        0      0         0   \n",
       "49986  tip  KCQUgDM3vNuB5xn4ZXVo-A         -1     0        2      0         2   \n",
       "49987  tip  JOmRnI8CHwEYULIaxRya2Q         -2     0        1      0         0   \n",
       "49988  tip  gVUyndcw91-CL_pqqlyMTQ         -1     0        1      0         0   \n",
       "49989  tip  NJr3BrZmavIuzKxE5W-aoQ          1     4        1      0         1   \n",
       "49990  tip  vI7wZxTprpMl2fj_IHU3iQ          0     1        0      0         0   \n",
       "49991  tip  VVz0XWDwPlexpYldp88Aig          1     0        0      0         0   \n",
       "49992  tip  Ks6jA4KZ31YhsSR-n-rmfw          1     1        0      0         0   \n",
       "49993  tip  Q2jWOzEmkl6Zys2R1fFZWg          0     1        0      1         0   \n",
       "49994  tip  AP6EQCQEMBvRyNGUhiNckw         -1     0        0      0         0   \n",
       "49995  tip  Q2jWOzEmkl6Zys2R1fFZWg          0     0        0      0         0   \n",
       "49996  tip  Q2jWOzEmkl6Zys2R1fFZWg         -1     2        0      0         0   \n",
       "49997  tip  NJr3BrZmavIuzKxE5W-aoQ          0     1        1      0         0   \n",
       "49998  tip  UOYJEm4M_xfgaCGOglwxlg          0     1        0      0         0   \n",
       "49999  tip  FQBOwnh6l7lRbPoI-jwxEQ          1     1        0      0         0   \n",
       "\n",
       "       Beverages  \n",
       "0              0  \n",
       "1              0  \n",
       "2              1  \n",
       "3              1  \n",
       "4              0  \n",
       "5              0  \n",
       "6              0  \n",
       "7              0  \n",
       "8              0  \n",
       "9              0  \n",
       "10             0  \n",
       "11             0  \n",
       "12             0  \n",
       "13             0  \n",
       "14             0  \n",
       "15             1  \n",
       "16             0  \n",
       "17             0  \n",
       "18             0  \n",
       "19             2  \n",
       "20             0  \n",
       "21             0  \n",
       "22             0  \n",
       "23             0  \n",
       "24             0  \n",
       "25             0  \n",
       "26             0  \n",
       "27             0  \n",
       "28             0  \n",
       "29             0  \n",
       "...          ...  \n",
       "49970          0  \n",
       "49971          0  \n",
       "49972          1  \n",
       "49973          0  \n",
       "49974          1  \n",
       "49975          1  \n",
       "49976          1  \n",
       "49977          1  \n",
       "49978          0  \n",
       "49979          0  \n",
       "49980          0  \n",
       "49981          0  \n",
       "49982          0  \n",
       "49983          0  \n",
       "49984          0  \n",
       "49985          0  \n",
       "49986          0  \n",
       "49987          0  \n",
       "49988          0  \n",
       "49989          0  \n",
       "49990          0  \n",
       "49991          0  \n",
       "49992          0  \n",
       "49993          0  \n",
       "49994          0  \n",
       "49995          0  \n",
       "49996          0  \n",
       "49997          0  \n",
       "49998          0  \n",
       "49999          0  \n",
       "\n",
       "[49992 rows x 12 columns]>"
      ]
     },
     "execution_count": 37,
     "metadata": {},
     "output_type": "execute_result"
    }
   ],
   "source": [
    "tip_sample.head"
   ]
  },
  {
   "cell_type": "code",
   "execution_count": 38,
   "metadata": {
    "collapsed": false
   },
   "outputs": [],
   "source": [
    "# Find out focus of tips\n",
    "tip_focus = []\n",
    "\n",
    "for index, row in tip_sample.iterrows():\n",
    "    #Food\n",
    "    if row['Service'] < row['Food'] > row['Price']  and row['Location'] < row['Food'] > row['Beverages']:\n",
    "        tip_focus.append(\"Food\")\n",
    "    #Service\n",
    "    elif row['Food'] < row['Service'] > row['Price'] and row['Location'] < row['Service'] > row['Beverages']:\n",
    "        tip_focus.append(\"Service\")\n",
    "    #Location\n",
    "    elif row['Food'] < row['Location'] > row['Price'] and row['Service'] < row['Location'] > row['Beverages']:\n",
    "        tip_focus.append(\"Location\")\n",
    "    #Price\n",
    "    elif row['Food'] < row['Price'] > row['Service'] and row['Location'] < row['Price'] > row['Beverages']:\n",
    "        tip_focus.append(\"Price\")\n",
    "    #Beverages\n",
    "    elif row['Food'] < row['Beverages'] > row['Service'] and row['Location'] < row['Beverages'] > row['Price']:\n",
    "        tip_focus.append(\"Beverages\")\n",
    "    else:\n",
    "        tip_focus.append(\"Neutral\")\n",
    "                    \n",
    "tip_sample['Tip_Focus'] = tip_focus\n"
   ]
  },
  {
   "cell_type": "markdown",
   "metadata": {},
   "source": [
    "Calculates the focus of a tip by compaing the different scores for factors mentioned in text and takes max. This is then recorded in the Tip focus column for features."
   ]
  },
  {
   "cell_type": "code",
   "execution_count": 39,
   "metadata": {
    "collapsed": false
   },
   "outputs": [
    {
     "ename": "KeyboardInterrupt",
     "evalue": "",
     "output_type": "error",
     "traceback": [
      "\u001b[1;31m---------------------------------------------------------------------------\u001b[0m",
      "\u001b[1;31mKeyboardInterrupt\u001b[0m                         Traceback (most recent call last)",
      "\u001b[1;32m<ipython-input-39-1ed51ca47eb9>\u001b[0m in \u001b[0;36m<module>\u001b[1;34m()\u001b[0m\n\u001b[0;32m      6\u001b[0m     \u001b[0mpositive_tips\u001b[0m \u001b[1;33m=\u001b[0m \u001b[1;36m0\u001b[0m\u001b[1;33m\u001b[0m\u001b[0m\n\u001b[0;32m      7\u001b[0m     \u001b[0mnegative_tips\u001b[0m \u001b[1;33m=\u001b[0m \u001b[1;36m0\u001b[0m\u001b[1;33m\u001b[0m\u001b[0m\n\u001b[1;32m----> 8\u001b[1;33m     \u001b[1;32mfor\u001b[0m \u001b[0mindex\u001b[0m\u001b[1;33m,\u001b[0m \u001b[0mrow_inner\u001b[0m \u001b[1;32min\u001b[0m \u001b[0mtip_sample\u001b[0m\u001b[1;33m.\u001b[0m\u001b[0miterrows\u001b[0m\u001b[1;33m(\u001b[0m\u001b[1;33m)\u001b[0m\u001b[1;33m:\u001b[0m\u001b[1;33m\u001b[0m\u001b[0m\n\u001b[0m\u001b[0;32m      9\u001b[0m         \u001b[1;32mif\u001b[0m \u001b[0mstr\u001b[0m\u001b[1;33m(\u001b[0m\u001b[0mrow_outer\u001b[0m\u001b[1;33m[\u001b[0m\u001b[1;34m'business_id'\u001b[0m\u001b[1;33m]\u001b[0m\u001b[1;33m)\u001b[0m \u001b[1;33m==\u001b[0m \u001b[0mstr\u001b[0m\u001b[1;33m(\u001b[0m\u001b[0mrow_inner\u001b[0m\u001b[1;33m[\u001b[0m\u001b[1;34m'business_id'\u001b[0m\u001b[1;33m]\u001b[0m\u001b[1;33m)\u001b[0m\u001b[1;33m:\u001b[0m\u001b[1;33m\u001b[0m\u001b[0m\n\u001b[0;32m     10\u001b[0m             \u001b[0mcount_tips\u001b[0m \u001b[1;33m+=\u001b[0m \u001b[1;36m1\u001b[0m\u001b[1;33m\u001b[0m\u001b[0m\n",
      "\u001b[1;32mC:\\Users\\ray\\Anaconda3\\lib\\site-packages\\pandas\\core\\frame.py\u001b[0m in \u001b[0;36miterrows\u001b[1;34m(self)\u001b[0m\n\u001b[0;32m    653\u001b[0m         \u001b[0mcolumns\u001b[0m \u001b[1;33m=\u001b[0m \u001b[0mself\u001b[0m\u001b[1;33m.\u001b[0m\u001b[0mcolumns\u001b[0m\u001b[1;33m\u001b[0m\u001b[0m\n\u001b[0;32m    654\u001b[0m         \u001b[1;32mfor\u001b[0m \u001b[0mk\u001b[0m\u001b[1;33m,\u001b[0m \u001b[0mv\u001b[0m \u001b[1;32min\u001b[0m \u001b[0mzip\u001b[0m\u001b[1;33m(\u001b[0m\u001b[0mself\u001b[0m\u001b[1;33m.\u001b[0m\u001b[0mindex\u001b[0m\u001b[1;33m,\u001b[0m \u001b[0mself\u001b[0m\u001b[1;33m.\u001b[0m\u001b[0mvalues\u001b[0m\u001b[1;33m)\u001b[0m\u001b[1;33m:\u001b[0m\u001b[1;33m\u001b[0m\u001b[0m\n\u001b[1;32m--> 655\u001b[1;33m             \u001b[0ms\u001b[0m \u001b[1;33m=\u001b[0m \u001b[0mSeries\u001b[0m\u001b[1;33m(\u001b[0m\u001b[0mv\u001b[0m\u001b[1;33m,\u001b[0m \u001b[0mindex\u001b[0m\u001b[1;33m=\u001b[0m\u001b[0mcolumns\u001b[0m\u001b[1;33m,\u001b[0m \u001b[0mname\u001b[0m\u001b[1;33m=\u001b[0m\u001b[0mk\u001b[0m\u001b[1;33m)\u001b[0m\u001b[1;33m\u001b[0m\u001b[0m\n\u001b[0m\u001b[0;32m    656\u001b[0m             \u001b[1;32myield\u001b[0m \u001b[0mk\u001b[0m\u001b[1;33m,\u001b[0m \u001b[0ms\u001b[0m\u001b[1;33m\u001b[0m\u001b[0m\n\u001b[0;32m    657\u001b[0m \u001b[1;33m\u001b[0m\u001b[0m\n",
      "\u001b[1;32mC:\\Users\\ray\\Anaconda3\\lib\\site-packages\\pandas\\core\\series.py\u001b[0m in \u001b[0;36m__init__\u001b[1;34m(self, data, index, dtype, name, copy, fastpath)\u001b[0m\n\u001b[0;32m    226\u001b[0m                                        raise_cast_failure=True)\n\u001b[0;32m    227\u001b[0m \u001b[1;33m\u001b[0m\u001b[0m\n\u001b[1;32m--> 228\u001b[1;33m                 \u001b[0mdata\u001b[0m \u001b[1;33m=\u001b[0m \u001b[0mSingleBlockManager\u001b[0m\u001b[1;33m(\u001b[0m\u001b[0mdata\u001b[0m\u001b[1;33m,\u001b[0m \u001b[0mindex\u001b[0m\u001b[1;33m,\u001b[0m \u001b[0mfastpath\u001b[0m\u001b[1;33m=\u001b[0m\u001b[1;32mTrue\u001b[0m\u001b[1;33m)\u001b[0m\u001b[1;33m\u001b[0m\u001b[0m\n\u001b[0m\u001b[0;32m    229\u001b[0m \u001b[1;33m\u001b[0m\u001b[0m\n\u001b[0;32m    230\u001b[0m         \u001b[0mgeneric\u001b[0m\u001b[1;33m.\u001b[0m\u001b[0mNDFrame\u001b[0m\u001b[1;33m.\u001b[0m\u001b[0m__init__\u001b[0m\u001b[1;33m(\u001b[0m\u001b[0mself\u001b[0m\u001b[1;33m,\u001b[0m \u001b[0mdata\u001b[0m\u001b[1;33m,\u001b[0m \u001b[0mfastpath\u001b[0m\u001b[1;33m=\u001b[0m\u001b[1;32mTrue\u001b[0m\u001b[1;33m)\u001b[0m\u001b[1;33m\u001b[0m\u001b[0m\n",
      "\u001b[1;32mC:\\Users\\ray\\Anaconda3\\lib\\site-packages\\pandas\\core\\internals.py\u001b[0m in \u001b[0;36m__init__\u001b[1;34m(self, block, axis, do_integrity_check, fastpath)\u001b[0m\n\u001b[0;32m   3750\u001b[0m         \u001b[1;32mif\u001b[0m \u001b[1;32mnot\u001b[0m \u001b[0misinstance\u001b[0m\u001b[1;33m(\u001b[0m\u001b[0mblock\u001b[0m\u001b[1;33m,\u001b[0m \u001b[0mBlock\u001b[0m\u001b[1;33m)\u001b[0m\u001b[1;33m:\u001b[0m\u001b[1;33m\u001b[0m\u001b[0m\n\u001b[0;32m   3751\u001b[0m             block = make_block(block, placement=slice(0, len(axis)), ndim=1,\n\u001b[1;32m-> 3752\u001b[1;33m                                fastpath=True)\n\u001b[0m\u001b[0;32m   3753\u001b[0m \u001b[1;33m\u001b[0m\u001b[0m\n\u001b[0;32m   3754\u001b[0m         \u001b[0mself\u001b[0m\u001b[1;33m.\u001b[0m\u001b[0mblocks\u001b[0m \u001b[1;33m=\u001b[0m \u001b[1;33m[\u001b[0m\u001b[0mblock\u001b[0m\u001b[1;33m]\u001b[0m\u001b[1;33m\u001b[0m\u001b[0m\n",
      "\u001b[1;32mC:\\Users\\ray\\Anaconda3\\lib\\site-packages\\pandas\\core\\internals.py\u001b[0m in \u001b[0;36mmake_block\u001b[1;34m(values, placement, klass, ndim, dtype, fastpath)\u001b[0m\n\u001b[0;32m   2446\u001b[0m             \u001b[1;32melse\u001b[0m\u001b[1;33m:\u001b[0m\u001b[1;33m\u001b[0m\u001b[0m\n\u001b[0;32m   2447\u001b[0m                 \u001b[0mklass\u001b[0m \u001b[1;33m=\u001b[0m \u001b[0mDatetimeBlock\u001b[0m\u001b[1;33m\u001b[0m\u001b[0m\n\u001b[1;32m-> 2448\u001b[1;33m         \u001b[1;32melif\u001b[0m \u001b[0mis_datetimetz\u001b[0m\u001b[1;33m(\u001b[0m\u001b[0mvalues\u001b[0m\u001b[1;33m)\u001b[0m\u001b[1;33m:\u001b[0m\u001b[1;33m\u001b[0m\u001b[0m\n\u001b[0m\u001b[0;32m   2449\u001b[0m             \u001b[0mklass\u001b[0m \u001b[1;33m=\u001b[0m \u001b[0mDatetimeTZBlock\u001b[0m\u001b[1;33m\u001b[0m\u001b[0m\n\u001b[0;32m   2450\u001b[0m         \u001b[1;32melif\u001b[0m \u001b[0missubclass\u001b[0m\u001b[1;33m(\u001b[0m\u001b[0mvtype\u001b[0m\u001b[1;33m,\u001b[0m \u001b[0mnp\u001b[0m\u001b[1;33m.\u001b[0m\u001b[0mcomplexfloating\u001b[0m\u001b[1;33m)\u001b[0m\u001b[1;33m:\u001b[0m\u001b[1;33m\u001b[0m\u001b[0m\n",
      "\u001b[1;32mC:\\Users\\ray\\Anaconda3\\lib\\site-packages\\pandas\\core\\common.py\u001b[0m in \u001b[0;36mis_datetimetz\u001b[1;34m(array)\u001b[0m\n\u001b[0;32m   2431\u001b[0m \u001b[1;32mdef\u001b[0m \u001b[0mis_datetimetz\u001b[0m\u001b[1;33m(\u001b[0m\u001b[0marray\u001b[0m\u001b[1;33m)\u001b[0m\u001b[1;33m:\u001b[0m\u001b[1;33m\u001b[0m\u001b[0m\n\u001b[0;32m   2432\u001b[0m     \u001b[1;34m\"\"\" return if we are a datetime with tz array \"\"\"\u001b[0m\u001b[1;33m\u001b[0m\u001b[0m\n\u001b[1;32m-> 2433\u001b[1;33m     return ((isinstance(array, ABCDatetimeIndex) and\n\u001b[0m\u001b[0;32m   2434\u001b[0m              getattr(array, 'tz', None) is not None) or\n\u001b[0;32m   2435\u001b[0m             is_datetime64tz_dtype(array))\n",
      "\u001b[1;32mC:\\Users\\ray\\Anaconda3\\lib\\site-packages\\pandas\\core\\common.py\u001b[0m in \u001b[0;36m_check\u001b[1;34m(cls, inst)\u001b[0m\n\u001b[0;32m     79\u001b[0m     \u001b[1;33m@\u001b[0m\u001b[0mclassmethod\u001b[0m\u001b[1;33m\u001b[0m\u001b[0m\n\u001b[0;32m     80\u001b[0m     \u001b[1;32mdef\u001b[0m \u001b[0m_check\u001b[0m\u001b[1;33m(\u001b[0m\u001b[0mcls\u001b[0m\u001b[1;33m,\u001b[0m \u001b[0minst\u001b[0m\u001b[1;33m)\u001b[0m\u001b[1;33m:\u001b[0m\u001b[1;33m\u001b[0m\u001b[0m\n\u001b[1;32m---> 81\u001b[1;33m         \u001b[1;32mreturn\u001b[0m \u001b[0mgetattr\u001b[0m\u001b[1;33m(\u001b[0m\u001b[0minst\u001b[0m\u001b[1;33m,\u001b[0m \u001b[0mattr\u001b[0m\u001b[1;33m,\u001b[0m \u001b[1;34m'_typ'\u001b[0m\u001b[1;33m)\u001b[0m \u001b[1;32min\u001b[0m \u001b[0mcomp\u001b[0m\u001b[1;33m\u001b[0m\u001b[0m\n\u001b[0m\u001b[0;32m     82\u001b[0m \u001b[1;33m\u001b[0m\u001b[0m\n\u001b[0;32m     83\u001b[0m     \u001b[0mdct\u001b[0m \u001b[1;33m=\u001b[0m \u001b[0mdict\u001b[0m\u001b[1;33m(\u001b[0m\u001b[0m__instancecheck__\u001b[0m\u001b[1;33m=\u001b[0m\u001b[0m_check\u001b[0m\u001b[1;33m,\u001b[0m \u001b[0m__subclasscheck__\u001b[0m\u001b[1;33m=\u001b[0m\u001b[0m_check\u001b[0m\u001b[1;33m)\u001b[0m\u001b[1;33m\u001b[0m\u001b[0m\n",
      "\u001b[1;31mKeyboardInterrupt\u001b[0m: "
     ]
    }
   ],
   "source": [
    "# Calculate percentage of positive and negative tweets for a business\n",
    "positive_percentage = []\n",
    "negative_percentage = []\n",
    "for index, row_outer in tip_sample.iterrows():\n",
    "    count_tips = 0\n",
    "    positive_tips = 0\n",
    "    negative_tips = 0\n",
    "    for index, row_inner in tip_sample.iterrows():\n",
    "        if str(row_outer['business_id']) == str(row_inner['business_id']):\n",
    "            count_tips += 1\n",
    "            if row_inner['Sentiment'] > 0:\n",
    "                positive_tips += 1\n",
    "            elif row_inner['Sentiment'] < 0:\n",
    "                negative_tips += 1\n",
    "    positive_percentage.append((positive_tips/count_tips)*100)\n",
    "    negative_percentage.append((negative_tips/count_tips)*100)\n",
    "\n",
    "tip_sample['Positve Percentage'] = positive_percentage\n",
    "tip_sample['Negative Percentage'] = negative_percentage"
   ]
  },
  {
   "cell_type": "markdown",
   "metadata": {},
   "source": [
    "Calculate whether the majority of tips for a business are positive or negative and creates two features to track this."
   ]
  },
  {
   "cell_type": "code",
   "execution_count": null,
   "metadata": {
    "collapsed": false
   },
   "outputs": [],
   "source": [
    "# Calculate what most users focus on when mentioning the busniess\n",
    "business_focus = []\n",
    "\n",
    "for index, row_outer in tip_sample.iterrows():\n",
    "    count_food = 0\n",
    "    count_service = 0\n",
    "    count_drink = 0\n",
    "    count_location = 0\n",
    "    count_price = 0\n",
    "    \n",
    "    for index, row_inner in tip_sample.iterrows():\n",
    "        if str(row_outer['business_id']) == str(row_inner['business_id']):\n",
    "            if row_inner['Tip_Focus'] == 'Food':\n",
    "                count_food += 1\n",
    "            elif row_inner['Tip_Focus'] == 'Service':\n",
    "                count_service += 1\n",
    "            elif row_inner['Tip_Focus'] == 'Beverages':\n",
    "                count_drink += 1\n",
    "            elif row_inner['Tip_Focus'] == 'Price':\n",
    "                count_price += 1\n",
    "            elif row_inner['Tip_Focus'] == 'Location':\n",
    "                count_location += 1\n",
    "                \n",
    "        \n",
    "    #Food\n",
    "    if count_service  < count_food > count_drink and count_location < count_food  > count_price:\n",
    "        business_focus.append(\"Food\")\n",
    "    #Service\n",
    "    elif count_food  <  count_service > count_drink and count_location <  count_service  > count_price:\n",
    "        business_focus.append(\"Service\")\n",
    "    #Location\n",
    "    elif count_service  < count_location > count_drink and count_food < count_location  > count_price:\n",
    "        business_focus.append(\"Location\")\n",
    "    #Price\n",
    "    elif count_service  < count_price > count_drink and count_location < count_price  > count_food:\n",
    "        business_focus.append(\"Price\")\n",
    "    #Beverages\n",
    "    elif count_service  < count_drink > count_food and count_location < count_drink  > count_price:\n",
    "        business_focus.append(\"Beverages\")\n",
    "    else:    \n",
    "        business_focus.append(\"Neutral\")\n",
    "    \n",
    "    \n",
    "tip_sample['Business_Focus'] = business_focus"
   ]
  },
  {
   "cell_type": "markdown",
   "metadata": {},
   "source": [
    "Same approach as for tips individually but for a business overall."
   ]
  },
  {
   "cell_type": "code",
   "execution_count": null,
   "metadata": {
    "collapsed": false
   },
   "outputs": [],
   "source": [
    "#Split tips into words and record tips length\n",
    "tip_sample[\"text\"] = tip_sample[\"text\"].str.lower().str.split()\n",
    "#Loop through tips feature and count tips lengths into words\n",
    "tipLengthWords = []\n",
    "\n",
    "for row in tip_sample['text']:\n",
    "    \n",
    "    #Count number of words\n",
    "    noOfWords = len(row)\n",
    "    #Set word count in list\n",
    "    tipLengthWords.append(noOfWords)\n",
    "\n",
    "#Create words column\n",
    "tip_sample['WordCount'] = tipLengthWords"
   ]
  },
  {
   "cell_type": "code",
   "execution_count": null,
   "metadata": {
    "collapsed": false
   },
   "outputs": [],
   "source": [
    "tip_sample.head()"
   ]
  },
  {
   "cell_type": "code",
   "execution_count": null,
   "metadata": {
    "collapsed": false
   },
   "outputs": [],
   "source": [
    "# Describtive stats for tips\n",
    "tip_sample.describe()"
   ]
  },
  {
   "cell_type": "code",
   "execution_count": null,
   "metadata": {
    "collapsed": false
   },
   "outputs": [],
   "source": [
    "#tip_sample.to_csv('Documents/COMP47350/DataAnalyticsProject/Code/yelp_tips_prepared.csv')\n",
    "tip_sample.to_csv('text_prepartion/yelp_tips_prepared.csv')"
   ]
  },
  {
   "cell_type": "markdown",
   "metadata": {},
   "source": [
    "# Review text Preparation"
   ]
  },
  {
   "cell_type": "code",
   "execution_count": 1,
   "metadata": {
    "collapsed": false
   },
   "outputs": [
    {
     "ename": "NameError",
     "evalue": "name 'pd' is not defined",
     "output_type": "error",
     "traceback": [
      "\u001b[1;31m---------------------------------------------------------------------------\u001b[0m",
      "\u001b[1;31mNameError\u001b[0m                                 Traceback (most recent call last)",
      "\u001b[1;32m<ipython-input-1-05490c501043>\u001b[0m in \u001b[0;36m<module>\u001b[1;34m()\u001b[0m\n\u001b[0;32m      1\u001b[0m \u001b[1;31m#Read Reviews csv into dataframe\u001b[0m\u001b[1;33m\u001b[0m\u001b[1;33m\u001b[0m\u001b[0m\n\u001b[1;32m----> 2\u001b[1;33m \u001b[0mreviewsDF\u001b[0m \u001b[1;33m=\u001b[0m \u001b[0mpd\u001b[0m\u001b[1;33m.\u001b[0m\u001b[0mread_csv\u001b[0m\u001b[1;33m(\u001b[0m\u001b[1;34m'ABT.csv'\u001b[0m\u001b[1;33m,\u001b[0m \u001b[0mindex_col\u001b[0m\u001b[1;33m=\u001b[0m\u001b[1;32mFalse\u001b[0m\u001b[1;33m,\u001b[0m \u001b[0mencoding\u001b[0m\u001b[1;33m=\u001b[0m\u001b[1;34m'UTF-8'\u001b[0m\u001b[1;33m)\u001b[0m\u001b[1;33m\u001b[0m\u001b[0m\n\u001b[0m",
      "\u001b[1;31mNameError\u001b[0m: name 'pd' is not defined"
     ]
    }
   ],
   "source": [
    "#Read Reviews csv into dataframe\n",
    "reviewsDF = pd.read_csv('ABT.csv', index_col=False, encoding='UTF-8')"
   ]
  },
  {
   "cell_type": "code",
   "execution_count": null,
   "metadata": {
    "collapsed": false
   },
   "outputs": [],
   "source": [
    "#Number of rows\n",
    "print('Number of rows', reviewsDF.shape)"
   ]
  },
  {
   "cell_type": "code",
   "execution_count": null,
   "metadata": {
    "collapsed": false
   },
   "outputs": [],
   "source": [
    "# Initial Table Head\n",
    "reviewsDF.head()"
   ]
  },
  {
   "cell_type": "code",
   "execution_count": null,
   "metadata": {
    "collapsed": false
   },
   "outputs": [],
   "source": [
    "#Drop unnamed index column as Panda adds its own one. Run this once only\n",
    "reviewsDF = reviewsDF.drop(reviewsDF.columns[0], axis = 1)"
   ]
  },
  {
   "cell_type": "code",
   "execution_count": null,
   "metadata": {
    "collapsed": false
   },
   "outputs": [],
   "source": [
    "#Check dataset features\n",
    "reviewsDF.dtypes"
   ]
  },
  {
   "cell_type": "code",
   "execution_count": null,
   "metadata": {
    "collapsed": false
   },
   "outputs": [],
   "source": [
    "# Test converting the Text feature of the reviews into a text file \n",
    "reviewsDFslice = reviewsDF[:25924]\n",
    "reviewsDFslice.tail(50)"
   ]
  },
  {
   "cell_type": "code",
   "execution_count": null,
   "metadata": {
    "collapsed": false
   },
   "outputs": [],
   "source": [
    "# Remove columns with problem characters due to encoding for np.savetext being limited to latin-1\n",
    "reviewsDFslice = reviewsDFslice.drop(reviewsDFslice.index[[11577]])\n",
    "reviewsDFslice = reviewsDFslice.drop(reviewsDFslice.index[[12957]])\n",
    "reviewsDFslice = reviewsDFslice.drop(reviewsDFslice.index[[15437]])\n",
    "reviewsDFslice = reviewsDFslice.drop(reviewsDFslice.index[[16839]])\n",
    "reviewsDFslice = reviewsDFslice.drop(reviewsDFslice.index[[23361]])"
   ]
  },
  {
   "cell_type": "code",
   "execution_count": null,
   "metadata": {
    "collapsed": false
   },
   "outputs": [],
   "source": [
    "reviewsDFslice.tail(50)"
   ]
  },
  {
   "cell_type": "code",
   "execution_count": null,
   "metadata": {
    "collapsed": false
   },
   "outputs": [],
   "source": [
    "#Number of rows and features after removal\n",
    "print(\"Number of rows in slice\", reviewsDFslice.shape)"
   ]
  },
  {
   "cell_type": "code",
   "execution_count": null,
   "metadata": {
    "collapsed": false
   },
   "outputs": [],
   "source": [
    "# Write text column to text file to allow NLtk text analysis on reviews\n",
    "np.savetxt(r'text_preparation/reviews.txt', reviewsDFslice['text'], fmt='%s')"
   ]
  },
  {
   "cell_type": "markdown",
   "metadata": {},
   "source": [
    "## Cell by cell sentiment analysis"
   ]
  },
  {
   "cell_type": "code",
   "execution_count": null,
   "metadata": {
    "collapsed": false
   },
   "outputs": [],
   "source": [
    "#Sentiment Analysis on sample slice of reviews\n",
    "#Split comments into words'\n",
    "\n",
    "reviews_sample = reviewsDFslice\n",
    "\n",
    "splitter = Splitter()\n",
    "postagger = POSTagger()\n",
    "\n",
    "sentiment_flag = []\n",
    "food_flag = []\n",
    "service_flag = []\n",
    "price_flag = []\n",
    "location_flag = []\n",
    "beverages_flag = []\n",
    "\n",
    "for row in reviews_sample['text']:\n",
    "    #print(row)\n",
    "    # Lowercase words.\n",
    "    row = row.lower()\n",
    "    #print('Lowercased row ' + row)\n",
    "    review_tokenized = splitter.split(row)\n",
    "    #print('Tokenised review', review_tokenized)\n",
    "    pos_tagged_reviews = postagger.pos_tag(review_tokenized)\n",
    "    #print('POS reviw', pos_tagged_reviews)\n",
    "    \n",
    "    #Tag tokenized review with various dicitonaries\n",
    "    \n",
    "    #Sentiment\n",
    "    dict_tagged_reviews = dicttagger_sentiment.tag(pos_tagged_reviews)\n",
    "    #print('Dictionary tagged review', dict_tagged_reviews)\n",
    "    #print('Sentiment score',sentiment_score(dict_tagged_reviews))\n",
    "    sentiment_flag.append(sentiment_score(dict_tagged_reviews))\n",
    "    \n",
    "    # Food\n",
    "    dict_tagged_reviews = dicttagger_food.tag(pos_tagged_reviews)\n",
    "    food_flag.append(food_score(dict_tagged_reviews))\n",
    "    \n",
    "    # Service\n",
    "    dict_tagged_reviews = dicttagger_service.tag(pos_tagged_reviews)\n",
    "    service_flag.append(service_score(dict_tagged_reviews))\n",
    "    \n",
    "    # Price\n",
    "    dict_tagged_reviews = dicttagger_price.tag(pos_tagged_reviews)\n",
    "    price_flag.append(price_score(dict_tagged_reviews))\n",
    "    \n",
    "    # Location\n",
    "    dict_tagged_reviews = dicttagger_location.tag(pos_tagged_reviews)\n",
    "    location_flag.append(location_score(dict_tagged_reviews))\n",
    "    \n",
    "    # Beverages\n",
    "    dict_tagged_reviews = dicttagger_beverages.tag(pos_tagged_reviews)\n",
    "    beverages_flag.append(drink_score(dict_tagged_reviews))\n",
    "\n",
    "\n",
    "#Create words column\n",
    "reviews_sample['Sentiment'] = sentiment_flag\n",
    "reviews_sample['Food'] = food_flag\n",
    "reviews_sample['Service'] = service_flag\n",
    "reviews_sample['Price'] = price_flag\n",
    "reviews_sample['Location'] = location_flag\n",
    "reviews_sample['Beverages'] = beverages_flag"
   ]
  },
  {
   "cell_type": "code",
   "execution_count": null,
   "metadata": {
    "collapsed": false
   },
   "outputs": [],
   "source": [
    "# Find out focus of reviews\n",
    "review_focus = []\n",
    "\n",
    "for index, row in reviews_sample.iterrows():\n",
    "    #Food\n",
    "    if row['Service'] < row['Food'] > row['Price']  and row['Location'] < row['Food'] > row['Beverages']:\n",
    "        review_focus.append(\"Food\")\n",
    "    #Service\n",
    "    elif row['Food'] < row['Service'] > row['Price'] and row['Location'] < row['Service'] > row['Beverages']:\n",
    "        review_focus.append(\"Service\")\n",
    "    #Location\n",
    "    elif row['Food'] < row['Location'] > row['Price'] and row['Service'] < row['Location'] > row['Beverages']:\n",
    "        review_focus.append(\"Location\")\n",
    "    #Price\n",
    "    elif row['Food'] < row['Price'] > row['Service'] and row['Location'] < row['Price'] > row['Beverages']:\n",
    "        review_focus.append(\"Price\")\n",
    "    #Beverages\n",
    "    elif row['Food'] < row['Beverages'] > row['Service'] and row['Location'] < row['Beverages'] > row['Price']:\n",
    "        review_focus.append(\"Beverages\")\n",
    "    else:\n",
    "        review_focus.append(\"Neutral\")\n",
    "                    \n",
    "reviews_sample['Review_Focus'] = review_focus"
   ]
  },
  {
   "cell_type": "code",
   "execution_count": null,
   "metadata": {
    "collapsed": false
   },
   "outputs": [],
   "source": [
    "# Calculate percentage of positive and negative reviews for a business\n",
    "positive_percentage = []\n",
    "negative_percentage = []\n",
    "for index, row_outer in reviews_sample.iterrows():\n",
    "    count_reviews = 0\n",
    "    positive_reviews = 0\n",
    "    negative_reviews = 0\n",
    "    for index, row_inner in reviews_sample.iterrows():\n",
    "        if str(row_outer['business_id']) == str(row_inner['business_id']):\n",
    "            count_tips += 1\n",
    "            if row_inner['Sentiment'] > 0:\n",
    "                positive_reviews += 1\n",
    "            elif row_inner['Sentiment'] < 0:\n",
    "                negative_reviews += 1\n",
    "    try:\n",
    "        positive_percentage.append((positive_reviews/count_reviews)*100)\n",
    "        negative_percentage.append((negative_reviews/count_reviews)*100)\n",
    "    except:\n",
    "        positive_percentage.append(0)\n",
    "        negative_percentage.append(0)\n",
    "\n",
    "reviews_sample['Positive percentage'] = positive_percentage\n",
    "reviews_sample['Negative percentage'] = negative_percentage"
   ]
  },
  {
   "cell_type": "code",
   "execution_count": null,
   "metadata": {
    "collapsed": false
   },
   "outputs": [],
   "source": [
    "#Split reviews into words and record reviews length\n",
    "reviews_sample[\"text\"] = reviews_sample[\"text\"].str.lower().str.split()\n",
    "#Loop through tips feature and count tips lengths into words\n",
    "reviewLengthWords = []\n",
    "\n",
    "for row in reviews_sample['text']:\n",
    "    \n",
    "    #Count number of words\n",
    "    noOfWords = len(row)\n",
    "    #Set word count in list\n",
    "    reviewLengthWords.append(noOfWords)\n",
    "\n",
    "#Create words column\n",
    "reviews_sample['WordCount'] = reviewLengthWords"
   ]
  },
  {
   "cell_type": "code",
   "execution_count": null,
   "metadata": {
    "collapsed": false
   },
   "outputs": [],
   "source": [
    "# Describtive stats for tips\n",
    "reviews_sample.describe()"
   ]
  },
  {
   "cell_type": "code",
   "execution_count": null,
   "metadata": {
    "collapsed": true
   },
   "outputs": [],
   "source": [
    "reviews_sample.shape"
   ]
  },
  {
   "cell_type": "code",
   "execution_count": null,
   "metadata": {
    "collapsed": false
   },
   "outputs": [],
   "source": [
    "reviews_sample.to_csv('text_preparation/abt_text_analysis_prepared.csv')\n",
    "#reviews_sample.to_csv('Documents/COMP47350/DataAnalyticsProject/Code/abt_text_analysis_prepared.csv')"
   ]
  },
  {
   "cell_type": "markdown",
   "metadata": {},
   "source": [
    "# Merge dataframes"
   ]
  },
  {
   "cell_type": "code",
   "execution_count": null,
   "metadata": {
    "collapsed": false
   },
   "outputs": [],
   "source": [
    "tips_analysisDF = pd.read_csv('text_preparation/yelp_tips_prepared.csv', index_col=False, encoding='latin-1')"
   ]
  },
  {
   "cell_type": "code",
   "execution_count": null,
   "metadata": {
    "collapsed": false
   },
   "outputs": [],
   "source": [
    "# Check dataframe\n",
    "tips_analysisDF.head()"
   ]
  },
  {
   "cell_type": "code",
   "execution_count": null,
   "metadata": {
    "collapsed": false
   },
   "outputs": [],
   "source": [
    "# Choose selected features for merge\n",
    "tips_sentiment =  tips_analysisDF[['business_id', 'Positve Percentage', 'Negative Percentage', 'Business_Focus']]"
   ]
  },
  {
   "cell_type": "code",
   "execution_count": null,
   "metadata": {
    "collapsed": false
   },
   "outputs": [],
   "source": [
    "tips_sentiment.head()"
   ]
  },
  {
   "cell_type": "code",
   "execution_count": null,
   "metadata": {
    "collapsed": true
   },
   "outputs": [],
   "source": [
    "tips_sentiment = tips_sentiment.rename(columns={'Positve Percentage': 'Tip Positve Percentage', \n",
    "                                                'Negative Percentage': 'Tip Negative Percentage', 'Business_Focus': 'Tip Business Focus'})"
   ]
  },
  {
   "cell_type": "code",
   "execution_count": null,
   "metadata": {
    "collapsed": false
   },
   "outputs": [],
   "source": [
    "ABT_tip = pd.merge(reviewsDFslice, tips_sentiment, how = 'left', on = ('business_id'))"
   ]
  },
  {
   "cell_type": "code",
   "execution_count": null,
   "metadata": {
    "collapsed": false
   },
   "outputs": [],
   "source": [
    "ABT_tip.head()"
   ]
  },
  {
   "cell_type": "code",
   "execution_count": null,
   "metadata": {
    "collapsed": true
   },
   "outputs": [],
   "source": [
    "#Save to csv\n",
    "ABT_tip.to_csv('text_preparation/abt_text_analysis_with_tips.csv')"
   ]
  },
  {
   "cell_type": "code",
   "execution_count": null,
   "metadata": {
    "collapsed": false
   },
   "outputs": [],
   "source": [
    "ABT_tip.shape"
   ]
  }
 ],
 "metadata": {
  "kernelspec": {
   "display_name": "Python 3",
   "language": "python",
   "name": "python3"
  },
  "language_info": {
   "codemirror_mode": {
    "name": "ipython",
    "version": 3
   },
   "file_extension": ".py",
   "mimetype": "text/x-python",
   "name": "python",
   "nbconvert_exporter": "python",
   "pygments_lexer": "ipython3",
   "version": "3.5.1"
  }
 },
 "nbformat": 4,
 "nbformat_minor": 0
}
