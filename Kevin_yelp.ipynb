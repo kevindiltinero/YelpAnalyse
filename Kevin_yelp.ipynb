{
 "cells": [
  {
   "cell_type": "code",
   "execution_count": 1,
   "metadata": {
    "collapsed": false
   },
   "outputs": [],
   "source": [
    "#IMPORT PACKAGES\n",
    "\n",
    "#import all the packages are needed for the project.\n",
    "import pandas as pd\n",
    "import json\n",
    "import csv\n",
    "import numpy as np\n",
    "import matplotlib.pyplot as plt\n",
    "from functools import reduce\n",
    "\n"
   ]
  },
  {
   "cell_type": "markdown",
   "metadata": {},
   "source": [
    "# Loading in the Json files into 4 seperate dataframes"
   ]
  },
  {
   "cell_type": "code",
   "execution_count": 2,
   "metadata": {
    "collapsed": false
   },
   "outputs": [],
   "source": [
    "#OPEN THE FIRST DOCUMENT    /// TIP DATASET\n",
    "#Read in line by line from the file then load the objects into the 1 dataframe\n",
    "\n",
    "with open('yelp_academic_dataset_tip.json') as f:\n",
    "    data2 = pd.DataFrame(json.loads(line) for line in f)"
   ]
  },
  {
   "cell_type": "code",
   "execution_count": 95,
   "metadata": {
    "collapsed": false
   },
   "outputs": [],
   "source": [
    "#OPEN THE SECOND DOCUMENT    /// USER DATASET\n",
    "#Read in line by line from the file then load the objects into the 1 dataframe\n",
    "\n",
    "with open('yelp_academic_dataset_user.json') as f:\n",
    "    data3 = pd.DataFrame(json.loads(line) for line in f)"
   ]
  },
  {
   "cell_type": "code",
   "execution_count": null,
   "metadata": {
    "collapsed": false
   },
   "outputs": [],
   "source": [
    "#OPEN THE THIRD DOCUMENT    /// BUSINESS DATASET\n",
    "#Read in line by line from the file then load the objects into the 1 dataframe\n",
    "\n",
    "with open('yelp_academic_dataset_business.json') as f:\n",
    "    data4 = pd.DataFrame(json.loads(line) for line in f)"
   ]
  },
  {
   "cell_type": "code",
   "execution_count": null,
   "metadata": {
    "collapsed": false,
    "scrolled": false
   },
   "outputs": [],
   "source": [
    "#OPEN THE FOURTH DOCUMENT    /// REVIEW DATASET\n",
    "#Read in line by line from the file then load the objects into the 1 dataframe\n",
    "\n",
    "with open('yelp_academic_dataset_review.json') as f:\n",
    "    data5 = pd.DataFrame(json.loads(line) for line in f)\n"
   ]
  },
  {
   "cell_type": "code",
   "execution_count": null,
   "metadata": {
    "collapsed": false
   },
   "outputs": [],
   "source": [
    "#STILL DEADLING WITH THIS 4TH DOCUMENT\n",
    "\n",
    "#Slice the dataframe to only take 50000/60000 rows out of the whopping 2GB file\n",
    "data5select = data5.iloc[0:55000,:]"
   ]
  },
  {
   "cell_type": "markdown",
   "metadata": {},
   "source": [
    "## Function for splitting columns"
   ]
  },
  {
   "cell_type": "code",
   "execution_count": 97,
   "metadata": {
    "collapsed": true
   },
   "outputs": [],
   "source": [
    "#CUSTOM FUNCTION \n",
    "#TO SPLIT COLUMN'S WHICH HAVE DICTIONARIES\n",
    "#When loading the json objects the structure is nested so some rows have a dictionary in every cell.\n",
    "#This function splits these into individual columns\n",
    "\n",
    "def splitting_row(dataframe, column):  \n",
    "    \"\"\"If a column has a dictionary within it this functionn splits it.\"\"\"\n",
    "    listuse = []\n",
    "    for row in dataframe[column]:\n",
    "        listuse.append(row)\n",
    "    return listuse"
   ]
  },
  {
   "cell_type": "markdown",
   "metadata": {},
   "source": [
    "# First Document"
   ]
  },
  {
   "cell_type": "code",
   "execution_count": 32,
   "metadata": {
    "collapsed": true
   },
   "outputs": [],
   "source": [
    "data2.to_csv('yelp_tips.csv')"
   ]
  },
  {
   "cell_type": "markdown",
   "metadata": {},
   "source": [
    "# Second Document"
   ]
  },
  {
   "cell_type": "code",
   "execution_count": 98,
   "metadata": {
    "collapsed": false
   },
   "outputs": [],
   "source": [
    "#SECOND DOCUMENT\n",
    "#Split the compliments row\n",
    "\n",
    "complimentsdf = pd.DataFrame(splitting_row(data3, 'compliments'))"
   ]
  },
  {
   "cell_type": "code",
   "execution_count": 99,
   "metadata": {
    "collapsed": true
   },
   "outputs": [],
   "source": [
    "#SECOND DOCUMENT\n",
    "#Split the compliments row\n",
    "\n",
    "votesdf = pd.DataFrame(splitting_row(data3, 'votes'))"
   ]
  },
  {
   "cell_type": "code",
   "execution_count": 100,
   "metadata": {
    "collapsed": true
   },
   "outputs": [],
   "source": [
    "#SECOND DOCUMENT\n",
    "#Concatinate the 2 dataframes above backontu the original dataframe.\n",
    "\n",
    "result = pd.concat([data3, complimentsdf, votesdf], axis=1, join='inner')"
   ]
  },
  {
   "cell_type": "code",
   "execution_count": 101,
   "metadata": {
    "collapsed": true
   },
   "outputs": [],
   "source": [
    "#SECOND DOCUMENT\n",
    "#Remove the rows that had the dictionaries in the cell as we don't need them anymore\n",
    "\n",
    "for element in ['friends', 'votes', 'compliments']:\n",
    "    result = result.drop(element, 1)"
   ]
  },
  {
   "cell_type": "code",
   "execution_count": 102,
   "metadata": {
    "collapsed": true
   },
   "outputs": [],
   "source": [
    "result.to_csv('yelp_userdata.csv') "
   ]
  },
  {
   "cell_type": "markdown",
   "metadata": {},
   "source": [
    "# Third Document"
   ]
  },
  {
   "cell_type": "code",
   "execution_count": 17,
   "metadata": {
    "collapsed": false
   },
   "outputs": [],
   "source": [
    "\n",
    "#THIRD DOCUMENT\n",
    "\n",
    "attributesdf = pd.DataFrame(splitting_row(data4, 'attributes'))"
   ]
  },
  {
   "cell_type": "markdown",
   "metadata": {},
   "source": [
    "#THIRD DOCUMENT\n",
    "\n",
    "for element in ['Parking', 'Good For', 'Ambience']:\n",
    "    attributesdf = attributesdf.drop(element, 1)"
   ]
  },
  {
   "cell_type": "code",
   "execution_count": 5,
   "metadata": {
    "collapsed": false
   },
   "outputs": [],
   "source": [
    "#THIRD DOCUMENT\n",
    "\n",
    "result4 = pd.concat([data4, attributesdf], axis=1, join='inner')   "
   ]
  },
  {
   "cell_type": "code",
   "execution_count": 6,
   "metadata": {
    "collapsed": false
   },
   "outputs": [],
   "source": [
    "#THIRD DOCUMENT\n",
    "\n",
    "for element in ['attributes', 'hours']:\n",
    "    result4 = result4.drop(element, 1)"
   ]
  },
  {
   "cell_type": "code",
   "execution_count": 10,
   "metadata": {
    "collapsed": false
   },
   "outputs": [],
   "source": [
    "result4.to_csv('yelp_bus.csv')"
   ]
  },
  {
   "cell_type": "markdown",
   "metadata": {},
   "source": [
    "# Fourth Document"
   ]
  },
  {
   "cell_type": "code",
   "execution_count": 18,
   "metadata": {
    "collapsed": false,
    "scrolled": true
   },
   "outputs": [],
   "source": [
    "#FOURTH DOCUMENT\n",
    "#Split the votes row\n",
    "votes4thdf = pd.DataFrame(splitting_row(data5select, 'votes'))"
   ]
  },
  {
   "cell_type": "code",
   "execution_count": 20,
   "metadata": {
    "collapsed": false
   },
   "outputs": [],
   "source": [
    "#FOURTH DOCUMENT\n",
    "#Concatinate the columns\n",
    "\n",
    "result5 = pd.concat([data5select, votes4thdf], axis=1, join='inner')"
   ]
  },
  {
   "cell_type": "code",
   "execution_count": 21,
   "metadata": {
    "collapsed": true
   },
   "outputs": [],
   "source": [
    "#FOURTH DOCUMENT\n",
    "\n",
    "#Remove the votes column\n",
    "\n",
    "result5 = result5.drop('votes', 1)"
   ]
  },
  {
   "cell_type": "code",
   "execution_count": 22,
   "metadata": {
    "collapsed": true
   },
   "outputs": [],
   "source": [
    "#FOURTH DOCUMENT\n",
    "\n",
    "result5.to_csv('yelp_reviews.csv')"
   ]
  },
  {
   "cell_type": "markdown",
   "metadata": {},
   "source": [
    "# Main Single ABT "
   ]
  },
  {
   "cell_type": "markdown",
   "metadata": {},
   "source": [
    "## CSV into DAtaframes"
   ]
  },
  {
   "cell_type": "code",
   "execution_count": 2,
   "metadata": {
    "collapsed": false
   },
   "outputs": [],
   "source": [
    "tipsdf = pd.read_csv('yelp_tips.csv')"
   ]
  },
  {
   "cell_type": "code",
   "execution_count": 3,
   "metadata": {
    "collapsed": false
   },
   "outputs": [],
   "source": [
    "usersdf = pd.read_csv('yelp_userdata.csv')"
   ]
  },
  {
   "cell_type": "code",
   "execution_count": 4,
   "metadata": {
    "collapsed": false
   },
   "outputs": [
    {
     "name": "stderr",
     "output_type": "stream",
     "text": [
      "/Applications/anaconda/envs/assignmentsecond/lib/python3.5/site-packages/IPython/core/interactiveshell.py:2723: DtypeWarning: Columns (26,37) have mixed types. Specify dtype option on import or set low_memory=False.\n",
      "  interactivity=interactivity, compiler=compiler, result=result)\n"
     ]
    }
   ],
   "source": [
    "bus_df = pd.read_csv('yelp_bus.csv')"
   ]
  },
  {
   "cell_type": "code",
   "execution_count": 5,
   "metadata": {
    "collapsed": true
   },
   "outputs": [],
   "source": [
    "reviews_df = pd.read_csv('yelp_reviews.csv')"
   ]
  },
  {
   "cell_type": "markdown",
   "metadata": {},
   "source": [
    "## FIND OUT THE SHAPE OF THE TABLES TO BE MERGED\n",
    "\n",
    "### FIRST MERGE; BUSINESS AND REVIEWS TABLE\n",
    "- The business table has 77445 rows of unique businesses data. Business_id is the identifier\n",
    "- We will merge on the reviews 'business_ID'\n",
    "- Reviews has 55,000 rows. Only 2600 businesses. Review_id identifier. Only 2600 businesses mentioned\n",
    "- We will merge the business and reviews on reviews. \n",
    "- The table will be a reviews table with businesses mensioned multiple times. Business info expanded upon\n",
    "\n",
    "### SECOND MERGE; REVIEWS AND USERS TABLES\n",
    "- User tables have around 500k rows. \n",
    "- Unique values are user_id. This means this table is 500k user information\n",
    "- We will merge this ontu the first_merge based on user_id\n",
    "\n",
    "### THIRD MERGE; REVIEWS AND TIPS\n",
    "- There is 500k tip listed with multiple businesses and multiple users.\n",
    "- There is only 50k unique businesses mentioned.\n",
    "- We will come up with an aggregate table of Bus_ID | total tips \n",
    "- Then merge that with the above based on business ID\n",
    "We will be taking an aggregate of the tips \n",
    "\n"
   ]
  },
  {
   "cell_type": "code",
   "execution_count": 11,
   "metadata": {
    "collapsed": false
   },
   "outputs": [
    {
     "data": {
      "text/plain": [
       "(77445, 47)"
      ]
     },
     "execution_count": 11,
     "metadata": {},
     "output_type": "execute_result"
    }
   ],
   "source": [
    "bus_df.shape"
   ]
  },
  {
   "cell_type": "code",
   "execution_count": 12,
   "metadata": {
    "collapsed": false
   },
   "outputs": [
    {
     "name": "stdout",
     "output_type": "stream",
     "text": [
      "77445\n"
     ]
    }
   ],
   "source": [
    "print(str(len(bus_df.business_id.unique())))"
   ]
  },
  {
   "cell_type": "code",
   "execution_count": 13,
   "metadata": {
    "collapsed": false
   },
   "outputs": [
    {
     "data": {
      "text/plain": [
       "(55000, 11)"
      ]
     },
     "execution_count": 13,
     "metadata": {},
     "output_type": "execute_result"
    }
   ],
   "source": [
    "reviews_df.shape"
   ]
  },
  {
   "cell_type": "code",
   "execution_count": 14,
   "metadata": {
    "collapsed": false
   },
   "outputs": [
    {
     "name": "stdout",
     "output_type": "stream",
     "text": [
      "2612\n"
     ]
    }
   ],
   "source": [
    "print(str(len(reviews_df.business_id.unique())))"
   ]
  },
  {
   "cell_type": "code",
   "execution_count": 15,
   "metadata": {
    "collapsed": false
   },
   "outputs": [
    {
     "name": "stdout",
     "output_type": "stream",
     "text": [
      "55000\n"
     ]
    }
   ],
   "source": [
    "print(str(len(reviews_df.review_id.unique())))"
   ]
  },
  {
   "cell_type": "code",
   "execution_count": 16,
   "metadata": {
    "collapsed": false
   },
   "outputs": [
    {
     "name": "stdout",
     "output_type": "stream",
     "text": [
      "117133\n"
     ]
    }
   ],
   "source": [
    "print(str(len(tipsdf.user_id.unique())))"
   ]
  },
  {
   "cell_type": "markdown",
   "metadata": {},
   "source": [
    "# Merge the Tables"
   ]
  },
  {
   "cell_type": "markdown",
   "metadata": {},
   "source": [
    "## First Merge"
   ]
  },
  {
   "cell_type": "code",
   "execution_count": 6,
   "metadata": {
    "collapsed": false
   },
   "outputs": [],
   "source": [
    "# MERGE\n",
    "#First try to merge the business table with the reviews table\n",
    "\n",
    "first_merge = pd.merge(bus_df, reviews_df, how='right', on=['business_id'])"
   ]
  },
  {
   "cell_type": "code",
   "execution_count": 7,
   "metadata": {
    "collapsed": false
   },
   "outputs": [
    {
     "data": {
      "text/plain": [
       "(552339, 23)"
      ]
     },
     "execution_count": 7,
     "metadata": {},
     "output_type": "execute_result"
    }
   ],
   "source": [
    "#Check the schema is appropriate and merge was success\n",
    "\n",
    "usersdf.shape"
   ]
  },
  {
   "cell_type": "code",
   "execution_count": 21,
   "metadata": {
    "collapsed": false
   },
   "outputs": [
    {
     "name": "stdout",
     "output_type": "stream",
     "text": [
      "552339\n"
     ]
    }
   ],
   "source": [
    "print(str(len(usersdf.user_id.unique())))"
   ]
  },
  {
   "cell_type": "code",
   "execution_count": 16,
   "metadata": {
    "collapsed": false
   },
   "outputs": [
    {
     "data": {
      "text/html": [
       "<div>\n",
       "<table border=\"1\" class=\"dataframe\">\n",
       "  <thead>\n",
       "    <tr style=\"text-align: right;\">\n",
       "      <th></th>\n",
       "      <th>stars_y</th>\n",
       "      <th>text</th>\n",
       "      <th>type_y</th>\n",
       "      <th>user_id</th>\n",
       "      <th>cool</th>\n",
       "      <th>funny</th>\n",
       "      <th>useful</th>\n",
       "    </tr>\n",
       "  </thead>\n",
       "  <tbody>\n",
       "    <tr>\n",
       "      <th>0</th>\n",
       "      <td>4</td>\n",
       "      <td>Mr Hoagie is an institution. Walking in, it do...</td>\n",
       "      <td>review</td>\n",
       "      <td>PUFPaY9KxDAcGqfsorJp3Q</td>\n",
       "      <td>0</td>\n",
       "      <td>0</td>\n",
       "      <td>0</td>\n",
       "    </tr>\n",
       "    <tr>\n",
       "      <th>1</th>\n",
       "      <td>5</td>\n",
       "      <td>Excellent food. Superb customer service. I mis...</td>\n",
       "      <td>review</td>\n",
       "      <td>Iu6AxdBYGR4A0wspR9BYHA</td>\n",
       "      <td>0</td>\n",
       "      <td>0</td>\n",
       "      <td>0</td>\n",
       "    </tr>\n",
       "    <tr>\n",
       "      <th>2</th>\n",
       "      <td>5</td>\n",
       "      <td>Yes this place is a little out dated and not o...</td>\n",
       "      <td>review</td>\n",
       "      <td>auESFwWvW42h6alXgFxAXQ</td>\n",
       "      <td>0</td>\n",
       "      <td>0</td>\n",
       "      <td>0</td>\n",
       "    </tr>\n",
       "    <tr>\n",
       "      <th>3</th>\n",
       "      <td>5</td>\n",
       "      <td>All the food is great here. But the best thing...</td>\n",
       "      <td>review</td>\n",
       "      <td>uK8tzraOp4M5u3uYrqIBXg</td>\n",
       "      <td>0</td>\n",
       "      <td>0</td>\n",
       "      <td>0</td>\n",
       "    </tr>\n",
       "    <tr>\n",
       "      <th>4</th>\n",
       "      <td>3</td>\n",
       "      <td>We checked this place out this past Monday for...</td>\n",
       "      <td>review</td>\n",
       "      <td>I_47G-R2_egp7ME5u_ltew</td>\n",
       "      <td>0</td>\n",
       "      <td>0</td>\n",
       "      <td>0</td>\n",
       "    </tr>\n",
       "    <tr>\n",
       "      <th>5</th>\n",
       "      <td>1</td>\n",
       "      <td>Wing sauce is like water. Pretty much a lot of...</td>\n",
       "      <td>review</td>\n",
       "      <td>PP_xoMSYlGr2pb67BbqBdA</td>\n",
       "      <td>0</td>\n",
       "      <td>0</td>\n",
       "      <td>0</td>\n",
       "    </tr>\n",
       "  </tbody>\n",
       "</table>\n",
       "</div>"
      ],
      "text/plain": [
       "   stars_y                                               text  type_y  \\\n",
       "0        4  Mr Hoagie is an institution. Walking in, it do...  review   \n",
       "1        5  Excellent food. Superb customer service. I mis...  review   \n",
       "2        5  Yes this place is a little out dated and not o...  review   \n",
       "3        5  All the food is great here. But the best thing...  review   \n",
       "4        3  We checked this place out this past Monday for...  review   \n",
       "5        1  Wing sauce is like water. Pretty much a lot of...  review   \n",
       "\n",
       "                  user_id  cool  funny  useful  \n",
       "0  PUFPaY9KxDAcGqfsorJp3Q     0      0       0  \n",
       "1  Iu6AxdBYGR4A0wspR9BYHA     0      0       0  \n",
       "2  auESFwWvW42h6alXgFxAXQ     0      0       0  \n",
       "3  uK8tzraOp4M5u3uYrqIBXg     0      0       0  \n",
       "4  I_47G-R2_egp7ME5u_ltew     0      0       0  \n",
       "5  PP_xoMSYlGr2pb67BbqBdA     0      0       0  "
      ]
     },
     "execution_count": 16,
     "metadata": {},
     "output_type": "execute_result"
    }
   ],
   "source": [
    "first_merge.iloc[:,50:65].head(6)"
   ]
  },
  {
   "cell_type": "markdown",
   "metadata": {},
   "source": [
    "## Second merge"
   ]
  },
  {
   "cell_type": "code",
   "execution_count": 17,
   "metadata": {
    "collapsed": true
   },
   "outputs": [],
   "source": [
    "second_merge = pd.merge(first_merge, usersdf, how='left', on=['user_id'])"
   ]
  },
  {
   "cell_type": "code",
   "execution_count": 26,
   "metadata": {
    "collapsed": false
   },
   "outputs": [
    {
     "data": {
      "text/plain": [
       "(55000, 79)"
      ]
     },
     "execution_count": 26,
     "metadata": {},
     "output_type": "execute_result"
    }
   ],
   "source": [
    "#Check the shape is still appropriote\n",
    "\n",
    "second_merge.shape"
   ]
  },
  {
   "cell_type": "code",
   "execution_count": 27,
   "metadata": {
    "collapsed": false
   },
   "outputs": [
    {
     "name": "stdout",
     "output_type": "stream",
     "text": [
      "55000\n"
     ]
    }
   ],
   "source": [
    "print(str(len(second_merge.review_id.unique())))"
   ]
  },
  {
   "cell_type": "code",
   "execution_count": 28,
   "metadata": {
    "collapsed": false
   },
   "outputs": [
    {
     "name": "stdout",
     "output_type": "stream",
     "text": [
      "30727\n"
     ]
    }
   ],
   "source": [
    "print(str(len(second_merge.user_id.unique())))"
   ]
  },
  {
   "cell_type": "markdown",
   "metadata": {},
   "source": [
    "# Manage the duplicate columns\n",
    "\n",
    "### Duplicate columns\n",
    "1. Name      \n",
    "2. Review count       \n",
    "3. Stars      \n",
    "4. Unamed      \n",
    "5. Type   \n",
    "6. Cool   X Y 1 \n",
    "7. Funny   X Y 1       \n",
    "8. Useful    X Y 1\n",
    "\n",
    "\n",
    "* **Name** = name_x is the name of the bar and name_y is the name of the owner. Rename as such\n",
    "* **Review count**= review_count_x is the count for the business the y is reviews the user has made. Rename as such\n",
    "* **Stars** = Stars x is the stars of the business. Stars y is the stars given in the review\n",
    "* **Unnamed**= This is just indexes we dont need remove this rows\n",
    "* **Type** Type x and type y both have a cardinality of 1 so remove these rows\n",
    "* **Cool, Funny, Useful** X- This is related to users rating about the review itself while Y is the compliments by the user while cool1 is votes by th user. "
   ]
  },
  {
   "cell_type": "code",
   "execution_count": 25,
   "metadata": {
    "collapsed": true
   },
   "outputs": [],
   "source": [
    "second_merge.rename(columns={'name_x': 'Business name', 'name_y': 'Reviewer name',\n",
    "                             'review_count_x': 'Business review count', 'review_count_y': 'Reviewer review count',\n",
    "                            'stars_x': 'Business stars', 'stars_y': 'Reviewer Rating',\n",
    "                             'name_x': 'Business name', 'name_y': 'Reviewer name',\n",
    "                            }, inplace=True)"
   ]
  },
  {
   "cell_type": "code",
   "execution_count": 26,
   "metadata": {
    "collapsed": true
   },
   "outputs": [],
   "source": [
    "for element in ['type_x', 'type_y', 'Unnamed: 0', 'Unnamed: 0_x', 'Unnamed: 0_y']:\n",
    "    second_merge = second_merge.drop(element, 1)"
   ]
  },
  {
   "cell_type": "code",
   "execution_count": 27,
   "metadata": {
    "collapsed": true
   },
   "outputs": [],
   "source": [
    "second_merge.rename(columns={'cool_x': 'Review = cool', 'funny_x': 'Review = funny', 'useful_x' : 'Review = useful',\n",
    "                             'cool_y': 'Compliment cool', 'funny_y': 'Compliment funny', \n",
    "                             'cool.1': 'Votes cool', 'funny.1': 'Votes funny', 'useful_y' : 'Votes useful'\n",
    "                            }, inplace=True)"
   ]
  },
  {
   "cell_type": "code",
   "execution_count": 28,
   "metadata": {
    "collapsed": false
   },
   "outputs": [
    {
     "data": {
      "text/plain": [
       "(55000, 74)"
      ]
     },
     "execution_count": 28,
     "metadata": {},
     "output_type": "execute_result"
    }
   ],
   "source": [
    "second_merge.shape"
   ]
  },
  {
   "cell_type": "markdown",
   "metadata": {},
   "source": [
    "# Manage the NAN values\n",
    "\n",
    "### Problem columns\n",
    "1. Accepts Insurance  \n",
    "2. Ages Allowed   \n",
    "3. BYOB BYOB/Corkage     \n",
    "4. By Appointment Only   \n",
    "5. Coat Check   \n",
    "6. Corkage   \n",
    "7. Dietary Restrictions   \n",
    "8. Dogs Alowed    \n",
    "9. Drive through     \n",
    "10. Good for dancing    \n",
    "11. Hair Types Specialised In \n",
    "12. Happy Hour    \n",
    "13. Music    \n",
    "14. Open 24 Hours    \n",
    "15. 'Open at counter'  \n",
    "16. Smoking\n",
    "\n"
   ]
  },
  {
   "cell_type": "code",
   "execution_count": 13,
   "metadata": {
    "collapsed": false
   },
   "outputs": [
    {
     "data": {
      "text/plain": [
       "business_id                      0\n",
       "categories                       0\n",
       "city                             0\n",
       "full_address                     0\n",
       "latitude                         0\n",
       "longitude                        0\n",
       "Business name                    0\n",
       "neighborhoods                    0\n",
       "open                             0\n",
       "Business review count            0\n",
       "Business stars                   0\n",
       "state                            0\n",
       "Accepts Credit Cards          7098\n",
       "Accepts Insurance            54841\n",
       "Ages Allowed                 54824\n",
       "Alcohol                      19282\n",
       "Attire                       20760\n",
       "BYOB                         47979\n",
       "BYOB/Corkage                 45303\n",
       "By Appointment Only          51752\n",
       "Caters                       25265\n",
       "Coat Check                   45931\n",
       "Corkage                      50659\n",
       "Delivery                     20179\n",
       "Dietary Restrictions         54347\n",
       "Dogs Allowed                 48664\n",
       "Drive-Thru                   52212\n",
       "Good For Dancing             45906\n",
       "Good For Groups              18733\n",
       "Good for Kids                16312\n",
       "Hair Types Specialized In    54737\n",
       "Happy Hour                   45765\n",
       "Has TV                       20017\n",
       "Music                        46053\n",
       "Noise Level                  20125\n",
       "Open 24 Hours                52146\n",
       "Order at Counter             51172\n",
       "Outdoor Seating              18022\n",
       "Price Range                   7486\n",
       "Smoking                      45921\n",
       "dtype: int64"
      ]
     },
     "execution_count": 13,
     "metadata": {},
     "output_type": "execute_result"
    }
   ],
   "source": [
    "#To sho the amount of null values in each column\n",
    "\n",
    "second_merge.iloc[:,0:40].isnull().sum()"
   ]
  },
  {
   "cell_type": "code",
   "execution_count": 14,
   "metadata": {
    "collapsed": false
   },
   "outputs": [
    {
     "data": {
      "text/plain": [
       "Smoking                  45921\n",
       "Take-out                 20687\n",
       "Takes Reservations       20669\n",
       "Waiter Service           21230\n",
       "Wheelchair Accessible    17108\n",
       "Wi-Fi                    19546\n",
       "date                         0\n",
       "review_id                    0\n",
       "Reviewer Rating              0\n",
       "text                         0\n",
       "user_id                      0\n",
       "Review = cool                0\n",
       "Review = funny               0\n",
       "Review = useful              0\n",
       "average_stars                0\n",
       "elite                        0\n",
       "fans                         0\n",
       "Reviewer name                0\n",
       "Reviewer review count        0\n",
       "type                         0\n",
       "yelping_since                0\n",
       "Compliment cool          27687\n",
       "cute                     45335\n",
       "Compliment funny         34238\n",
       "hot                      31757\n",
       "list                     46700\n",
       "more                     34952\n",
       "note                     27640\n",
       "photos                   40678\n",
       "plain                    26338\n",
       "profile                  44431\n",
       "writer                   30056\n",
       "Votes cool                   0\n",
       "Votes funny                  0\n",
       "Compliment useful            0\n",
       "dtype: int64"
      ]
     },
     "execution_count": 14,
     "metadata": {},
     "output_type": "execute_result"
    }
   ],
   "source": [
    "second_merge.iloc[:,39:76].isnull().sum()"
   ]
  },
  {
   "cell_type": "code",
   "execution_count": 29,
   "metadata": {
    "collapsed": false
   },
   "outputs": [],
   "source": [
    "#Anything that has around 40k+ NAN remove that column\n",
    "\n",
    "for element in ['Accepts Insurance', 'Ages Allowed', 'BYOB', 'BYOB/Corkage', 'By Appointment Only', 'Coat Check',   \n",
    "'Corkage', 'Dietary Restrictions', 'Dogs Allowed', 'Drive-Thru', 'Good For Dancing', 'Hair Types Specialized In', \n",
    "'Happy Hour', 'Music', 'Open 24 Hours', 'Order at Counter', 'Smoking']:\n",
    "    second_merge = second_merge.drop(element, 1)\n",
    "\n"
   ]
  },
  {
   "cell_type": "code",
   "execution_count": 16,
   "metadata": {
    "collapsed": false
   },
   "outputs": [
    {
     "data": {
      "text/plain": [
       "(55000, 57)"
      ]
     },
     "execution_count": 16,
     "metadata": {},
     "output_type": "execute_result"
    }
   ],
   "source": [
    "#Now check the shape of the bad boy\n",
    "\n",
    "second_merge.shape"
   ]
  },
  {
   "cell_type": "code",
   "execution_count": 18,
   "metadata": {
    "collapsed": false
   },
   "outputs": [
    {
     "data": {
      "text/plain": [
       "business_id                  0\n",
       "categories                   0\n",
       "city                         0\n",
       "full_address                 0\n",
       "latitude                     0\n",
       "longitude                    0\n",
       "Business name                0\n",
       "neighborhoods                0\n",
       "open                         0\n",
       "Business review count        0\n",
       "Business stars               0\n",
       "state                        0\n",
       "Accepts Credit Cards      7098\n",
       "Alcohol                  19282\n",
       "Attire                   20760\n",
       "Caters                   25265\n",
       "Delivery                 20179\n",
       "Good For Groups          18733\n",
       "Good for Kids            16312\n",
       "Has TV                   20017\n",
       "Noise Level              20125\n",
       "Outdoor Seating          18022\n",
       "Price Range               7486\n",
       "Take-out                 20687\n",
       "Takes Reservations       20669\n",
       "Waiter Service           21230\n",
       "Wheelchair Accessible    17108\n",
       "Wi-Fi                    19546\n",
       "date                         0\n",
       "review_id                    0\n",
       "Reviewer Rating              0\n",
       "text                         0\n",
       "user_id                      0\n",
       "Review = cool                0\n",
       "Review = funny               0\n",
       "Review = useful              0\n",
       "average_stars                0\n",
       "elite                        0\n",
       "fans                         0\n",
       "Reviewer name                0\n",
       "Reviewer review count        0\n",
       "type                         0\n",
       "yelping_since                0\n",
       "Compliment cool          27687\n",
       "cute                     45335\n",
       "Compliment funny         34238\n",
       "hot                      31757\n",
       "list                     46700\n",
       "more                     34952\n",
       "note                     27640\n",
       "photos                   40678\n",
       "plain                    26338\n",
       "profile                  44431\n",
       "writer                   30056\n",
       "Votes cool                   0\n",
       "Votes funny                  0\n",
       "Compliment useful            0\n",
       "dtype: int64"
      ]
     },
     "execution_count": 18,
     "metadata": {},
     "output_type": "execute_result"
    }
   ],
   "source": [
    "second_merge.isnull().sum()"
   ]
  },
  {
   "cell_type": "code",
   "execution_count": 30,
   "metadata": {
    "collapsed": true
   },
   "outputs": [],
   "source": [
    "play_df = second_merge"
   ]
  },
  {
   "cell_type": "code",
   "execution_count": 31,
   "metadata": {
    "collapsed": false
   },
   "outputs": [],
   "source": [
    "#Drop *ROWS* that have Null values in the subset below\n",
    "#Subset is all the business attributes as they are what where missing the most\n",
    "\n",
    "df4 = play_df.dropna(subset=['Accepts Credit Cards', 'Alcohol' , 'Attire', 'Caters', 'Delivery', 'Good For Groups',       \n",
    "'Good for Kids', 'Has TV', 'Noise Level', 'Outdoor Seating', 'Price Range', 'Take-out', 'Takes Reservations',\n",
    "'Waiter Service', 'Wheelchair Accessible', 'Wi-Fi']) \n",
    "\n",
    "          \n"
   ]
  },
  {
   "cell_type": "code",
   "execution_count": 32,
   "metadata": {
    "collapsed": false
   },
   "outputs": [
    {
     "data": {
      "text/plain": [
       "(25924, 57)"
      ]
     },
     "execution_count": 32,
     "metadata": {},
     "output_type": "execute_result"
    }
   ],
   "source": [
    "df4.shape"
   ]
  },
  {
   "cell_type": "code",
   "execution_count": 33,
   "metadata": {
    "collapsed": false
   },
   "outputs": [
    {
     "data": {
      "text/plain": [
       "business_id                  0\n",
       "categories                   0\n",
       "city                         0\n",
       "full_address                 0\n",
       "latitude                     0\n",
       "longitude                    0\n",
       "Business name                0\n",
       "neighborhoods                0\n",
       "open                         0\n",
       "Business review count        0\n",
       "Business stars               0\n",
       "state                        0\n",
       "Accepts Credit Cards         0\n",
       "Alcohol                      0\n",
       "Attire                       0\n",
       "Caters                       0\n",
       "Delivery                     0\n",
       "Good For Groups              0\n",
       "Good for Kids                0\n",
       "Has TV                       0\n",
       "Noise Level                  0\n",
       "Outdoor Seating              0\n",
       "Price Range                  0\n",
       "Take-out                     0\n",
       "Takes Reservations           0\n",
       "Waiter Service               0\n",
       "Wheelchair Accessible        0\n",
       "Wi-Fi                        0\n",
       "date                         0\n",
       "review_id                    0\n",
       "Reviewer Rating              0\n",
       "text                         0\n",
       "user_id                      0\n",
       "Review = cool                0\n",
       "Review = funny               0\n",
       "Review = useful              0\n",
       "average_stars                0\n",
       "elite                        0\n",
       "fans                         0\n",
       "Reviewer name                0\n",
       "Reviewer review count        0\n",
       "type                         0\n",
       "yelping_since                0\n",
       "Compliment cool          13230\n",
       "cute                     21656\n",
       "Compliment funny         16591\n",
       "hot                      15385\n",
       "list                     22521\n",
       "more                     16995\n",
       "note                     13267\n",
       "photos                   19585\n",
       "plain                    12672\n",
       "profile                  21467\n",
       "writer                   14542\n",
       "Votes cool                   0\n",
       "Votes funny                  0\n",
       "Votes useful                 0\n",
       "dtype: int64"
      ]
     },
     "execution_count": 33,
     "metadata": {},
     "output_type": "execute_result"
    }
   ],
   "source": [
    "df4.isnull().sum()"
   ]
  },
  {
   "cell_type": "code",
   "execution_count": 37,
   "metadata": {
    "collapsed": false
   },
   "outputs": [
    {
     "name": "stderr",
     "output_type": "stream",
     "text": [
      "/Applications/anaconda/envs/assignmentsecond/lib/python3.5/site-packages/pandas/core/frame.py:2697: SettingWithCopyWarning: \n",
      "A value is trying to be set on a copy of a slice from a DataFrame\n",
      "\n",
      "See the caveats in the documentation: http://pandas.pydata.org/pandas-docs/stable/indexing.html#indexing-view-versus-copy\n",
      "  **kwargs)\n"
     ]
    }
   ],
   "source": [
    "#Make the columns from the compliments dictionary clear\n",
    "\n",
    "df4.rename(columns={'cute': 'Compliments cute', 'hot': 'Compliments hot',\n",
    "                             'list': 'Compliments list', 'more': 'Compliments more',\n",
    "                            'note': 'Compliments note', 'photos': 'Compliments photos',\n",
    "                             'plain': 'Complimetns plain', 'profile': 'Compliments profile',\n",
    "                             'writer' : 'Compliments writer'\n",
    "                            }, inplace=True)"
   ]
  },
  {
   "cell_type": "code",
   "execution_count": 38,
   "metadata": {
    "collapsed": true
   },
   "outputs": [],
   "source": [
    "#WRITE IT TO THE .CSV\n",
    "\n",
    "df4.to_csv('ABT.csv')"
   ]
  },
  {
   "cell_type": "code",
   "execution_count": 39,
   "metadata": {
    "collapsed": false
   },
   "outputs": [
    {
     "data": {
      "text/plain": [
       "(25924, 57)"
      ]
     },
     "execution_count": 39,
     "metadata": {},
     "output_type": "execute_result"
    }
   ],
   "source": [
    "df4.shape"
   ]
  },
  {
   "cell_type": "code",
   "execution_count": 41,
   "metadata": {
    "collapsed": false
   },
   "outputs": [
    {
     "data": {
      "text/plain": [
       "business_id                  0\n",
       "categories                   0\n",
       "city                         0\n",
       "full_address                 0\n",
       "latitude                     0\n",
       "longitude                    0\n",
       "Business name                0\n",
       "neighborhoods                0\n",
       "open                         0\n",
       "Business review count        0\n",
       "Business stars               0\n",
       "state                        0\n",
       "Accepts Credit Cards         0\n",
       "Alcohol                      0\n",
       "Attire                       0\n",
       "Caters                       0\n",
       "Delivery                     0\n",
       "Good For Groups              0\n",
       "Good for Kids                0\n",
       "Has TV                       0\n",
       "Noise Level                  0\n",
       "Outdoor Seating              0\n",
       "Price Range                  0\n",
       "Take-out                     0\n",
       "Takes Reservations           0\n",
       "Waiter Service               0\n",
       "Wheelchair Accessible        0\n",
       "Wi-Fi                        0\n",
       "date                         0\n",
       "review_id                    0\n",
       "Reviewer Rating              0\n",
       "text                         0\n",
       "user_id                      0\n",
       "Review = cool                0\n",
       "Review = funny               0\n",
       "Review = useful              0\n",
       "average_stars                0\n",
       "elite                        0\n",
       "fans                         0\n",
       "Reviewer name                0\n",
       "Reviewer review count        0\n",
       "type                         0\n",
       "yelping_since                0\n",
       "Compliment cool          13230\n",
       "Compliments cute         21656\n",
       "Compliment funny         16591\n",
       "Compliments hot          15385\n",
       "Compliments list         22521\n",
       "Compliments more         16995\n",
       "Compliments note         13267\n",
       "Compliments photos       19585\n",
       "Complimetns plain        12672\n",
       "Compliments profile      21467\n",
       "Compliments writer       14542\n",
       "Votes cool                   0\n",
       "Votes funny                  0\n",
       "Votes useful                 0\n",
       "dtype: int64"
      ]
     },
     "execution_count": 41,
     "metadata": {},
     "output_type": "execute_result"
    }
   ],
   "source": [
    "df4.isnull().sum()"
   ]
  },
  {
   "cell_type": "code",
   "execution_count": null,
   "metadata": {
    "collapsed": true
   },
   "outputs": [],
   "source": [
    "#for element in ['Accepts Insurance', 'Ages Allowed', 'BYOB', 'BYOB/Corkage', 'By Appointment Only', 'Coat Check',   \n",
    "#'Corkage', 'Dietary Restrictions', 'Dogs Allowed', 'Drive-Thru', 'Good For Dancing', 'Hair Types Specialized In', \n",
    "#'Happy Hour', 'Music', 'Open 24 Hours', 'Order at Counter', 'Smoking']:\n",
    "#    second_merge = second_merge.drop(element, 1)\n",
    "    "
   ]
  },
  {
   "cell_type": "code",
   "execution_count": null,
   "metadata": {
    "collapsed": true
   },
   "outputs": [],
   "source": []
  },
  {
   "cell_type": "markdown",
   "metadata": {},
   "source": [
    "# Data Quality Report\n",
    "\n",
    "## "
   ]
  },
  {
   "cell_type": "code",
   "execution_count": null,
   "metadata": {
    "collapsed": true
   },
   "outputs": [],
   "source": []
  }
 ],
 "metadata": {
  "kernelspec": {
   "display_name": "Python 3",
   "language": "python",
   "name": "python3"
  },
  "language_info": {
   "codemirror_mode": {
    "name": "ipython",
    "version": 3
   },
   "file_extension": ".py",
   "mimetype": "text/x-python",
   "name": "python",
   "nbconvert_exporter": "python",
   "pygments_lexer": "ipython3",
   "version": "3.5.1"
  }
 },
 "nbformat": 4,
 "nbformat_minor": 0
}
